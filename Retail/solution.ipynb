{
 "cells": [
  {
   "cell_type": "markdown",
   "metadata": {},
   "source": [
    "# Retail ML Project\n",
    "Problem statement:\n",
    "- It is a business critical requirement to understand the value derived from a customer. RFM is a method used for analyzing customer value.\n",
    "- Perform customer segmentation using RFM analysis. The resulting segments can be ordered from most valuable (highest recency, frequency, and value) to least valuable (lowest recency, frequency, and value). \n",
    "- Identifying the most valuable RFM segments can capitalize on chance relationships in the data used for this analysis.\n",
    "\n",
    "\n",
    "Objectives:\n",
    "- Data Cleaning\n",
    "- Data Transformation\n",
    "- Data Modeling\n"
   ]
  },
  {
   "cell_type": "markdown",
   "metadata": {},
   "source": [
    "Data Description:\n",
    "- InvoiceNo: Invoice number. Nominal, a 6-digit integral number uniquely assigned to each transaction. If this code starts with letter 'c', it indicates a cancellation.\n",
    "- StockCode: Product (item) code. Nominal, a 5-digit integral number uniquely assigned to each distinct product. \n",
    "- Description: Product (item) name. Nominal. \n",
    "-Quantity: The quantities of each product (item) per transaction. Numeric. \n",
    "- InvoiceDate: Invoice Date and time. Numeric, the day and time when each transaction was generated. \n",
    "- UnitPrice: Unit price. Numeric, Product price per unit in sterling. \n",
    "- CustomerID: Customer number. Nominal, a 5-digit integral number uniquely assigned to each customer. \n",
    "- Country: Country name. Nominal, the name of the country where each customer resides.\n"
   ]
  },
  {
   "cell_type": "markdown",
   "metadata": {},
   "source": [
    "## Data Cleaning\n",
    "- Insepect the data and understand it \n",
    "- Clean the data to improve quality"
   ]
  },
  {
   "cell_type": "markdown",
   "metadata": {},
   "source": [
    "### Inspecting the data"
   ]
  },
  {
   "cell_type": "code",
   "execution_count": 1,
   "metadata": {},
   "outputs": [],
   "source": [
    "import pandas as pd\n",
    "import numpy as np\n",
    "import matplotlib.pyplot as plt\n",
    "import seaborn as sns\n",
    "# pip install openpyxl\n",
    "import openpyxl"
   ]
  },
  {
   "cell_type": "code",
   "execution_count": 2,
   "metadata": {},
   "outputs": [],
   "source": [
    "# Step 0 - Open the excel file and read the descriptions\n",
    "# Load the dataset and check it \n",
    "df = pd.read_excel(\"./datasets/train.xlsx\")\n",
    "df"
   ]
  },
  {
   "cell_type": "code",
   "execution_count": null,
   "metadata": {},
   "outputs": [
    {
     "name": "stdout",
     "output_type": "stream",
     "text": [
      "<class 'pandas.core.frame.DataFrame'>\n",
      "RangeIndex: 379336 entries, 0 to 379335\n",
      "Data columns (total 8 columns):\n",
      " #   Column       Non-Null Count   Dtype         \n",
      "---  ------       --------------   -----         \n",
      " 0   InvoiceNo    379336 non-null  object        \n",
      " 1   StockCode    379336 non-null  object        \n",
      " 2   Description  378373 non-null  object        \n",
      " 3   Quantity     379336 non-null  int64         \n",
      " 4   InvoiceDate  379336 non-null  datetime64[ns]\n",
      " 5   UnitPrice    379336 non-null  float64       \n",
      " 6   CustomerID   285076 non-null  float64       \n",
      " 7   Country      379336 non-null  object        \n",
      "dtypes: datetime64[ns](1), float64(2), int64(1), object(4)\n",
      "memory usage: 23.2+ MB\n"
     ]
    }
   ],
   "source": [
    "# 379336 rows and 8 columns\n",
    "df.info()"
   ]
  },
  {
   "cell_type": "markdown",
   "metadata": {},
   "source": [
    "### Cleaning the data\n",
    "- Drop duplicates\n",
    "- Check for NaN\n",
    "- Format the data\n",
    "- Check for unreasonable values"
   ]
  },
  {
   "cell_type": "code",
   "execution_count": null,
   "metadata": {},
   "outputs": [],
   "source": [
    "# Drop duplicates\n",
    "df = df.drop_duplicates()"
   ]
  },
  {
   "cell_type": "code",
   "execution_count": null,
   "metadata": {},
   "outputs": [
    {
     "name": "stdout",
     "output_type": "stream",
     "text": [
      "['Description 963', 'CustomerID 94243']\n"
     ]
    }
   ],
   "source": [
    "# df.isnull().sum() # Also works since there are little columns\n",
    "# First find the column names that have missing data\n",
    "empty_cols = df.columns[df.isna().any()].tolist()\n",
    "\n",
    "# Add the number of missing data next to the column name\n",
    "for x, i in enumerate(empty_cols):\n",
    "    if i in df.columns:\n",
    "        empty_cols[x] = empty_cols[x] + f\" {df[i].isnull().sum()}\"\n",
    "print(empty_cols)\n"
   ]
  },
  {
   "cell_type": "markdown",
   "metadata": {},
   "source": [
    "NLP will not be used in this model. Hence, the description column can be safely dropped.\n",
    "\n",
    "On the other hand, missing customer id cannot be averaged and must have the row dropped."
   ]
  },
  {
   "cell_type": "code",
   "execution_count": null,
   "metadata": {},
   "outputs": [
    {
     "data": {
      "text/plain": [
       "(282420, 7)"
      ]
     },
     "execution_count": 6,
     "metadata": {},
     "output_type": "execute_result"
    }
   ],
   "source": [
    "df = df.dropna()\n",
    "df = df.drop([\"Description\"], axis=1)\n",
    "df.shape"
   ]
  },
  {
   "cell_type": "code",
   "execution_count": null,
   "metadata": {},
   "outputs": [],
   "source": [
    "# Convert CustomerID to a string\n",
    "df[\"CustomerID\"] = df[\"CustomerID\"].astype(int).astype(str)"
   ]
  },
  {
   "cell_type": "code",
   "execution_count": null,
   "metadata": {},
   "outputs": [
    {
     "data": {
      "text/html": [
       "<div>\n",
       "<style scoped>\n",
       "    .dataframe tbody tr th:only-of-type {\n",
       "        vertical-align: middle;\n",
       "    }\n",
       "\n",
       "    .dataframe tbody tr th {\n",
       "        vertical-align: top;\n",
       "    }\n",
       "\n",
       "    .dataframe thead th {\n",
       "        text-align: right;\n",
       "    }\n",
       "</style>\n",
       "<table border=\"1\" class=\"dataframe\">\n",
       "  <thead>\n",
       "    <tr style=\"text-align: right;\">\n",
       "      <th></th>\n",
       "      <th>InvoiceNo</th>\n",
       "      <th>StockCode</th>\n",
       "      <th>Quantity</th>\n",
       "      <th>InvoiceDate</th>\n",
       "      <th>UnitPrice</th>\n",
       "      <th>CustomerID</th>\n",
       "      <th>Country</th>\n",
       "    </tr>\n",
       "  </thead>\n",
       "  <tbody>\n",
       "    <tr>\n",
       "      <th>1</th>\n",
       "      <td>556072</td>\n",
       "      <td>20970</td>\n",
       "      <td>8</td>\n",
       "      <td>2011-06-08 14:57:00</td>\n",
       "      <td>3.75</td>\n",
       "      <td>16126</td>\n",
       "      <td>United Kingdom</td>\n",
       "    </tr>\n",
       "    <tr>\n",
       "      <th>2</th>\n",
       "      <td>551739</td>\n",
       "      <td>21559</td>\n",
       "      <td>2</td>\n",
       "      <td>2011-05-04 10:58:00</td>\n",
       "      <td>2.55</td>\n",
       "      <td>18118</td>\n",
       "      <td>United Kingdom</td>\n",
       "    </tr>\n",
       "    <tr>\n",
       "      <th>3</th>\n",
       "      <td>541658</td>\n",
       "      <td>21988</td>\n",
       "      <td>1</td>\n",
       "      <td>2011-01-20 12:16:00</td>\n",
       "      <td>0.85</td>\n",
       "      <td>15529</td>\n",
       "      <td>United Kingdom</td>\n",
       "    </tr>\n",
       "    <tr>\n",
       "      <th>4</th>\n",
       "      <td>538364</td>\n",
       "      <td>85099C</td>\n",
       "      <td>10</td>\n",
       "      <td>2010-12-10 17:26:00</td>\n",
       "      <td>1.95</td>\n",
       "      <td>14448</td>\n",
       "      <td>United Kingdom</td>\n",
       "    </tr>\n",
       "    <tr>\n",
       "      <th>5</th>\n",
       "      <td>552306</td>\n",
       "      <td>84789</td>\n",
       "      <td>4</td>\n",
       "      <td>2011-05-08 15:20:00</td>\n",
       "      <td>3.75</td>\n",
       "      <td>13911</td>\n",
       "      <td>United Kingdom</td>\n",
       "    </tr>\n",
       "    <tr>\n",
       "      <th>...</th>\n",
       "      <td>...</td>\n",
       "      <td>...</td>\n",
       "      <td>...</td>\n",
       "      <td>...</td>\n",
       "      <td>...</td>\n",
       "      <td>...</td>\n",
       "      <td>...</td>\n",
       "    </tr>\n",
       "    <tr>\n",
       "      <th>379330</th>\n",
       "      <td>553872</td>\n",
       "      <td>21937</td>\n",
       "      <td>5</td>\n",
       "      <td>2011-05-19 14:35:00</td>\n",
       "      <td>2.95</td>\n",
       "      <td>13050</td>\n",
       "      <td>United Kingdom</td>\n",
       "    </tr>\n",
       "    <tr>\n",
       "      <th>379331</th>\n",
       "      <td>C554864</td>\n",
       "      <td>22962</td>\n",
       "      <td>-4</td>\n",
       "      <td>2011-05-27 10:36:00</td>\n",
       "      <td>0.85</td>\n",
       "      <td>15122</td>\n",
       "      <td>United Kingdom</td>\n",
       "    </tr>\n",
       "    <tr>\n",
       "      <th>379333</th>\n",
       "      <td>572302</td>\n",
       "      <td>22091</td>\n",
       "      <td>1</td>\n",
       "      <td>2011-10-23 14:47:00</td>\n",
       "      <td>0.39</td>\n",
       "      <td>15427</td>\n",
       "      <td>United Kingdom</td>\n",
       "    </tr>\n",
       "    <tr>\n",
       "      <th>379334</th>\n",
       "      <td>559339</td>\n",
       "      <td>84946</td>\n",
       "      <td>60</td>\n",
       "      <td>2011-07-07 16:49:00</td>\n",
       "      <td>1.25</td>\n",
       "      <td>13752</td>\n",
       "      <td>United Kingdom</td>\n",
       "    </tr>\n",
       "    <tr>\n",
       "      <th>379335</th>\n",
       "      <td>576771</td>\n",
       "      <td>23159</td>\n",
       "      <td>12</td>\n",
       "      <td>2011-11-16 13:19:00</td>\n",
       "      <td>2.08</td>\n",
       "      <td>13285</td>\n",
       "      <td>United Kingdom</td>\n",
       "    </tr>\n",
       "  </tbody>\n",
       "</table>\n",
       "<p>282420 rows × 7 columns</p>\n",
       "</div>"
      ],
      "text/plain": [
       "       InvoiceNo StockCode  Quantity         InvoiceDate  UnitPrice  \\\n",
       "1         556072     20970         8 2011-06-08 14:57:00       3.75   \n",
       "2         551739     21559         2 2011-05-04 10:58:00       2.55   \n",
       "3         541658     21988         1 2011-01-20 12:16:00       0.85   \n",
       "4         538364    85099C        10 2010-12-10 17:26:00       1.95   \n",
       "5         552306     84789         4 2011-05-08 15:20:00       3.75   \n",
       "...          ...       ...       ...                 ...        ...   \n",
       "379330    553872     21937         5 2011-05-19 14:35:00       2.95   \n",
       "379331   C554864     22962        -4 2011-05-27 10:36:00       0.85   \n",
       "379333    572302     22091         1 2011-10-23 14:47:00       0.39   \n",
       "379334    559339     84946        60 2011-07-07 16:49:00       1.25   \n",
       "379335    576771     23159        12 2011-11-16 13:19:00       2.08   \n",
       "\n",
       "       CustomerID         Country  \n",
       "1           16126  United Kingdom  \n",
       "2           18118  United Kingdom  \n",
       "3           15529  United Kingdom  \n",
       "4           14448  United Kingdom  \n",
       "5           13911  United Kingdom  \n",
       "...           ...             ...  \n",
       "379330      13050  United Kingdom  \n",
       "379331      15122  United Kingdom  \n",
       "379333      15427  United Kingdom  \n",
       "379334      13752  United Kingdom  \n",
       "379335      13285  United Kingdom  \n",
       "\n",
       "[282420 rows x 7 columns]"
      ]
     },
     "execution_count": 8,
     "metadata": {},
     "output_type": "execute_result"
    }
   ],
   "source": [
    "df"
   ]
  },
  {
   "cell_type": "code",
   "execution_count": null,
   "metadata": {},
   "outputs": [
    {
     "name": "stdout",
     "output_type": "stream",
     "text": [
      "Column Quantity has negative numbers\n",
      "Column UnitPrice has 0s\n"
     ]
    }
   ],
   "source": [
    "# Check if the numeric columns have any sketchy numbers\n",
    "for col in df.columns:\n",
    "    if df[col].dtype in [\"int64\", \"float64\", \"int32\", \"int16\", \"float32\"]:\n",
    "        if (df[col] < 0).any():\n",
    "            print(f\"Column {col} has negative numbers\")\n",
    "        elif (df[col] == 0).any():\n",
    "            print(f\"Column {col} has 0s\")"
   ]
  },
  {
   "cell_type": "code",
   "execution_count": null,
   "metadata": {},
   "outputs": [
    {
     "data": {
      "text/plain": [
       "(31, 6199)"
      ]
     },
     "execution_count": 10,
     "metadata": {},
     "output_type": "execute_result"
    }
   ],
   "source": [
    "# Unit price cannot be 0, and discounts usually avoid such exploits.\n",
    "len(df[df[\"UnitPrice\"]==0]), len(df[df[\"Quantity\"]<0])"
   ]
  },
  {
   "cell_type": "code",
   "execution_count": null,
   "metadata": {},
   "outputs": [
    {
     "data": {
      "text/plain": [
       "(276190, 7)"
      ]
     },
     "execution_count": 11,
     "metadata": {},
     "output_type": "execute_result"
    }
   ],
   "source": [
    "df = df[df[\"Quantity\"] >= 0]\n",
    "df = df[df[\"UnitPrice\"] > 0]\n",
    "df.shape"
   ]
  },
  {
   "cell_type": "markdown",
   "metadata": {},
   "source": [
    "## Data Transformation\n",
    "- Create monthly cohorts to analyze active customers\n",
    "- Analyze the retention rate of customers"
   ]
  },
  {
   "cell_type": "code",
   "execution_count": null,
   "metadata": {},
   "outputs": [
    {
     "data": {
      "text/plain": [
       "<PeriodArray>\n",
       "['2011-06', '2011-05', '2011-01', '2010-12', '2011-09', '2011-10', '2011-02',\n",
       " '2011-11', '2011-07', '2011-08', '2011-03', '2011-04', '2011-12']\n",
       "Length: 13, dtype: period[M]"
      ]
     },
     "execution_count": 12,
     "metadata": {},
     "output_type": "execute_result"
    }
   ],
   "source": [
    "# Add a new column that indicates the month only\n",
    "# Add another column for the date without the time\n",
    "df[\"month_year\"] = df.InvoiceDate.dt.to_period(\"M\")\n",
    "df[\"purchase_date\"] = df[\"InvoiceDate\"].dt.to_period(\"D\")\n",
    "df[\"month_year\"].unique()"
   ]
  },
  {
   "cell_type": "code",
   "execution_count": null,
   "metadata": {},
   "outputs": [
    {
     "data": {
      "text/plain": [
       "month_year\n",
       "2010-12     872\n",
       "2011-01     735\n",
       "2011-02     745\n",
       "2011-03     964\n",
       "2011-04     849\n",
       "2011-05    1043\n",
       "2011-06     982\n",
       "2011-07     937\n",
       "2011-08     923\n",
       "2011-09    1250\n",
       "2011-10    1354\n",
       "2011-11    1654\n",
       "2011-12     607\n",
       "Freq: M, Name: CustomerID, dtype: int64"
      ]
     },
     "execution_count": 13,
     "metadata": {},
     "output_type": "execute_result"
    }
   ],
   "source": [
    "# Find the monthly unique active users\n",
    "monthly_customers = df.groupby(\"month_year\")[\"CustomerID\"].nunique()\n",
    "monthly_customers"
   ]
  },
  {
   "cell_type": "code",
   "execution_count": null,
   "metadata": {},
   "outputs": [
    {
     "data": {
      "text/plain": [
       "Text(0.5, 0, 'Number of unique active users')"
      ]
     },
     "execution_count": 14,
     "metadata": {},
     "output_type": "execute_result"
    },
    {
     "data": {
      "image/png": "[encoded data removed]",
      "text/plain": [
       "<Figure size 720x360 with 1 Axes>"
      ]
     },
     "metadata": {
      "needs_background": "light"
     },
     "output_type": "display_data"
    }
   ],
   "source": [
    "plt.figure(figsize=(10, 5))\n",
    "sns.barplot(y=monthly_customers.index, x=monthly_customers.values)\n",
    "plt.title(\"Unique active users per month\")\n",
    "plt.ylabel(\"Month and year\")\n",
    "plt.xlabel(\"Number of unique active users\")"
   ]
  },
  {
   "cell_type": "code",
   "execution_count": null,
   "metadata": {},
   "outputs": [],
   "source": [
    "# Find the % change from the previous row\n",
    "retention_rate = round(monthly_customers.pct_change(1)*100,2)"
   ]
  },
  {
   "cell_type": "code",
   "execution_count": null,
   "metadata": {},
   "outputs": [
    {
     "data": {
      "text/plain": [
       "<AxesSubplot:ylabel='month_year'>"
      ]
     },
     "execution_count": 16,
     "metadata": {},
     "output_type": "execute_result"
    },
    {
     "data": {
      "image/png": "[encoded data removed]",
      "text/plain": [
       "<Figure size 720x360 with 1 Axes>"
      ]
     },
     "metadata": {
      "needs_background": "light"
     },
     "output_type": "display_data"
    }
   ],
   "source": [
    "plt.figure(figsize=(10, 5))\n",
    "sns.barplot(x=retention_rate.values, y= retention_rate.index)"
   ]
  },
  {
   "cell_type": "markdown",
   "metadata": {},
   "source": [
    "It is clear that the retention rate of the company is poor. \n",
    "\n",
    "The retention rate may also be seasonal considering how the highest spikes in customer retention occurs during the months closer to thanksgiving and christmas."
   ]
  },
  {
   "cell_type": "markdown",
   "metadata": {},
   "source": [
    "## Data Modeling\n",
    "- Build an RFM model\n",
    "- Calculate RFM metrics\n",
    "- Build RFM segments"
   ]
  },
  {
   "cell_type": "markdown",
   "metadata": {},
   "source": [
    "### Building an RFM model"
   ]
  },
  {
   "cell_type": "code",
   "execution_count": null,
   "metadata": {},
   "outputs": [
    {
     "data": {
      "text/plain": [
       "Period('2011-12-09', 'D')"
      ]
     },
     "execution_count": 17,
     "metadata": {},
     "output_type": "execute_result"
    }
   ],
   "source": [
    "# The latest data has dates up to 2011-12-09\n",
    "# The reference date will be the day after 2011-12-10\n",
    "df[\"purchase_date\"].max()"
   ]
  },
  {
   "cell_type": "code",
   "execution_count": null,
   "metadata": {},
   "outputs": [
    {
     "data": {
      "text/html": [
       "<div>\n",
       "<style scoped>\n",
       "    .dataframe tbody tr th:only-of-type {\n",
       "        vertical-align: middle;\n",
       "    }\n",
       "\n",
       "    .dataframe tbody tr th {\n",
       "        vertical-align: top;\n",
       "    }\n",
       "\n",
       "    .dataframe thead th {\n",
       "        text-align: right;\n",
       "    }\n",
       "</style>\n",
       "<table border=\"1\" class=\"dataframe\">\n",
       "  <thead>\n",
       "    <tr style=\"text-align: right;\">\n",
       "      <th></th>\n",
       "      <th>Customer ID</th>\n",
       "      <th>Recency</th>\n",
       "    </tr>\n",
       "  </thead>\n",
       "  <tbody>\n",
       "    <tr>\n",
       "      <th>1</th>\n",
       "      <td>12346</td>\n",
       "      <td>326</td>\n",
       "    </tr>\n",
       "    <tr>\n",
       "      <th>2</th>\n",
       "      <td>12347</td>\n",
       "      <td>3</td>\n",
       "    </tr>\n",
       "    <tr>\n",
       "      <th>3</th>\n",
       "      <td>12348</td>\n",
       "      <td>76</td>\n",
       "    </tr>\n",
       "    <tr>\n",
       "      <th>4</th>\n",
       "      <td>12349</td>\n",
       "      <td>19</td>\n",
       "    </tr>\n",
       "    <tr>\n",
       "      <th>5</th>\n",
       "      <td>12350</td>\n",
       "      <td>311</td>\n",
       "    </tr>\n",
       "    <tr>\n",
       "      <th>...</th>\n",
       "      <td>...</td>\n",
       "      <td>...</td>\n",
       "    </tr>\n",
       "    <tr>\n",
       "      <th>4316</th>\n",
       "      <td>18280</td>\n",
       "      <td>278</td>\n",
       "    </tr>\n",
       "    <tr>\n",
       "      <th>4317</th>\n",
       "      <td>18281</td>\n",
       "      <td>181</td>\n",
       "    </tr>\n",
       "    <tr>\n",
       "      <th>4318</th>\n",
       "      <td>18282</td>\n",
       "      <td>8</td>\n",
       "    </tr>\n",
       "    <tr>\n",
       "      <th>4319</th>\n",
       "      <td>18283</td>\n",
       "      <td>4</td>\n",
       "    </tr>\n",
       "    <tr>\n",
       "      <th>4320</th>\n",
       "      <td>18287</td>\n",
       "      <td>43</td>\n",
       "    </tr>\n",
       "  </tbody>\n",
       "</table>\n",
       "<p>4320 rows × 2 columns</p>\n",
       "</div>"
      ],
      "text/plain": [
       "     Customer ID  Recency\n",
       "1          12346      326\n",
       "2          12347        3\n",
       "3          12348       76\n",
       "4          12349       19\n",
       "5          12350      311\n",
       "...          ...      ...\n",
       "4316       18280      278\n",
       "4317       18281      181\n",
       "4318       18282        8\n",
       "4319       18283        4\n",
       "4320       18287       43\n",
       "\n",
       "[4320 rows x 2 columns]"
      ]
     },
     "execution_count": 102,
     "metadata": {},
     "output_type": "execute_result"
    }
   ],
   "source": [
    "# Note that the purchase date was previously stored as a period object\n",
    "# It is converted to a timestamp in the new data frame for conviencence\n",
    "reference_date = pd.to_datetime(\"2011-12-10\")\n",
    "df_recency = df.groupby(\"CustomerID\", as_index=False)[\"purchase_date\"].max()\n",
    "df_recency = df_recency.rename(columns={\"CustomerID\":\"Customer ID\"})\n",
    "df_recency.index = df_recency.index + 1\n",
    "df_recency[\"Recency\"] = df_recency[\"purchase_date\"].apply(lambda row: (reference_date - row.to_timestamp()).days)\n",
    "df_recency.drop(\"purchase_date\", axis=1, inplace=True)\n",
    "df_recency"
   ]
  },
  {
   "cell_type": "code",
   "execution_count": null,
   "metadata": {},
   "outputs": [
    {
     "data": {
      "text/html": [
       "<div>\n",
       "<style scoped>\n",
       "    .dataframe tbody tr th:only-of-type {\n",
       "        vertical-align: middle;\n",
       "    }\n",
       "\n",
       "    .dataframe tbody tr th {\n",
       "        vertical-align: top;\n",
       "    }\n",
       "\n",
       "    .dataframe thead th {\n",
       "        text-align: right;\n",
       "    }\n",
       "</style>\n",
       "<table border=\"1\" class=\"dataframe\">\n",
       "  <thead>\n",
       "    <tr style=\"text-align: right;\">\n",
       "      <th></th>\n",
       "      <th>Customer ID</th>\n",
       "      <th>Frequency</th>\n",
       "    </tr>\n",
       "  </thead>\n",
       "  <tbody>\n",
       "    <tr>\n",
       "      <th>1</th>\n",
       "      <td>12346</td>\n",
       "      <td>1</td>\n",
       "    </tr>\n",
       "    <tr>\n",
       "      <th>2</th>\n",
       "      <td>12347</td>\n",
       "      <td>132</td>\n",
       "    </tr>\n",
       "    <tr>\n",
       "      <th>3</th>\n",
       "      <td>12348</td>\n",
       "      <td>20</td>\n",
       "    </tr>\n",
       "    <tr>\n",
       "      <th>4</th>\n",
       "      <td>12349</td>\n",
       "      <td>50</td>\n",
       "    </tr>\n",
       "    <tr>\n",
       "      <th>5</th>\n",
       "      <td>12350</td>\n",
       "      <td>11</td>\n",
       "    </tr>\n",
       "    <tr>\n",
       "      <th>...</th>\n",
       "      <td>...</td>\n",
       "      <td>...</td>\n",
       "    </tr>\n",
       "    <tr>\n",
       "      <th>4316</th>\n",
       "      <td>18280</td>\n",
       "      <td>5</td>\n",
       "    </tr>\n",
       "    <tr>\n",
       "      <th>4317</th>\n",
       "      <td>18281</td>\n",
       "      <td>5</td>\n",
       "    </tr>\n",
       "    <tr>\n",
       "      <th>4318</th>\n",
       "      <td>18282</td>\n",
       "      <td>8</td>\n",
       "    </tr>\n",
       "    <tr>\n",
       "      <th>4319</th>\n",
       "      <td>18283</td>\n",
       "      <td>511</td>\n",
       "    </tr>\n",
       "    <tr>\n",
       "      <th>4320</th>\n",
       "      <td>18287</td>\n",
       "      <td>50</td>\n",
       "    </tr>\n",
       "  </tbody>\n",
       "</table>\n",
       "<p>4320 rows × 2 columns</p>\n",
       "</div>"
      ],
      "text/plain": [
       "     Customer ID  Frequency\n",
       "1          12346          1\n",
       "2          12347        132\n",
       "3          12348         20\n",
       "4          12349         50\n",
       "5          12350         11\n",
       "...          ...        ...\n",
       "4316       18280          5\n",
       "4317       18281          5\n",
       "4318       18282          8\n",
       "4319       18283        511\n",
       "4320       18287         50\n",
       "\n",
       "[4320 rows x 2 columns]"
      ]
     },
     "execution_count": 103,
     "metadata": {},
     "output_type": "execute_result"
    }
   ],
   "source": [
    "# The frequency will be over the whole data set, since it spans 1 year only\n",
    "# Group the data according to customer ID then count the number of Inovoices\n",
    "df_frequency = df.groupby(\"CustomerID\", as_index=False)[\"InvoiceNo\"].count()\n",
    "df_frequency.index = df_frequency.index + 1\n",
    "df_frequency.rename(columns={\"CustomerID\":\"Customer ID\", \"InvoiceNo\":\"Frequency\"}, inplace=True)\n",
    "df_frequency"
   ]
  },
  {
   "cell_type": "code",
   "execution_count": null,
   "metadata": {},
   "outputs": [
    {
     "data": {
      "text/html": [
       "<div>\n",
       "<style scoped>\n",
       "    .dataframe tbody tr th:only-of-type {\n",
       "        vertical-align: middle;\n",
       "    }\n",
       "\n",
       "    .dataframe tbody tr th {\n",
       "        vertical-align: top;\n",
       "    }\n",
       "\n",
       "    .dataframe thead th {\n",
       "        text-align: right;\n",
       "    }\n",
       "</style>\n",
       "<table border=\"1\" class=\"dataframe\">\n",
       "  <thead>\n",
       "    <tr style=\"text-align: right;\">\n",
       "      <th></th>\n",
       "      <th>Customer ID</th>\n",
       "      <th>Monetary</th>\n",
       "    </tr>\n",
       "  </thead>\n",
       "  <tbody>\n",
       "    <tr>\n",
       "      <th>1</th>\n",
       "      <td>12346</td>\n",
       "      <td>77183.60</td>\n",
       "    </tr>\n",
       "    <tr>\n",
       "      <th>2</th>\n",
       "      <td>12347</td>\n",
       "      <td>3124.96</td>\n",
       "    </tr>\n",
       "    <tr>\n",
       "      <th>3</th>\n",
       "      <td>12348</td>\n",
       "      <td>1009.88</td>\n",
       "    </tr>\n",
       "    <tr>\n",
       "      <th>4</th>\n",
       "      <td>12349</td>\n",
       "      <td>1344.17</td>\n",
       "    </tr>\n",
       "    <tr>\n",
       "      <th>5</th>\n",
       "      <td>12350</td>\n",
       "      <td>213.30</td>\n",
       "    </tr>\n",
       "    <tr>\n",
       "      <th>...</th>\n",
       "      <td>...</td>\n",
       "      <td>...</td>\n",
       "    </tr>\n",
       "    <tr>\n",
       "      <th>4316</th>\n",
       "      <td>18280</td>\n",
       "      <td>91.70</td>\n",
       "    </tr>\n",
       "    <tr>\n",
       "      <th>4317</th>\n",
       "      <td>18281</td>\n",
       "      <td>59.28</td>\n",
       "    </tr>\n",
       "    <tr>\n",
       "      <th>4318</th>\n",
       "      <td>18282</td>\n",
       "      <td>119.61</td>\n",
       "    </tr>\n",
       "    <tr>\n",
       "      <th>4319</th>\n",
       "      <td>18283</td>\n",
       "      <td>1450.29</td>\n",
       "    </tr>\n",
       "    <tr>\n",
       "      <th>4320</th>\n",
       "      <td>18287</td>\n",
       "      <td>1430.78</td>\n",
       "    </tr>\n",
       "  </tbody>\n",
       "</table>\n",
       "<p>4320 rows × 2 columns</p>\n",
       "</div>"
      ],
      "text/plain": [
       "     Customer ID  Monetary\n",
       "1          12346  77183.60\n",
       "2          12347   3124.96\n",
       "3          12348   1009.88\n",
       "4          12349   1344.17\n",
       "5          12350    213.30\n",
       "...          ...       ...\n",
       "4316       18280     91.70\n",
       "4317       18281     59.28\n",
       "4318       18282    119.61\n",
       "4319       18283   1450.29\n",
       "4320       18287   1430.78\n",
       "\n",
       "[4320 rows x 2 columns]"
      ]
     },
     "execution_count": 104,
     "metadata": {},
     "output_type": "execute_result"
    }
   ],
   "source": [
    "# Calculate the money spent by the customer over the period selected\n",
    "# In this case over 1 year (13 months in reality)\n",
    "df[\"total_sale\"] = df.UnitPrice * df.Quantity\n",
    "df_monetary = df.groupby(\"CustomerID\", as_index=False)[\"total_sale\"].sum()\n",
    "df_monetary.index = df_monetary.index + 1\n",
    "df_monetary.rename(columns={\"CustomerID\":\"Customer ID\", \"total_sale\":\"Monetary\"}, inplace=True)\n",
    "df_monetary"
   ]
  },
  {
   "cell_type": "code",
   "execution_count": null,
   "metadata": {},
   "outputs": [
    {
     "data": {
      "text/html": [
       "<div>\n",
       "<style scoped>\n",
       "    .dataframe tbody tr th:only-of-type {\n",
       "        vertical-align: middle;\n",
       "    }\n",
       "\n",
       "    .dataframe tbody tr th {\n",
       "        vertical-align: top;\n",
       "    }\n",
       "\n",
       "    .dataframe thead th {\n",
       "        text-align: right;\n",
       "    }\n",
       "</style>\n",
       "<table border=\"1\" class=\"dataframe\">\n",
       "  <thead>\n",
       "    <tr style=\"text-align: right;\">\n",
       "      <th></th>\n",
       "      <th>Customer ID</th>\n",
       "      <th>Recency</th>\n",
       "      <th>Frequency</th>\n",
       "      <th>Monetary</th>\n",
       "    </tr>\n",
       "  </thead>\n",
       "  <tbody>\n",
       "    <tr>\n",
       "      <th>1</th>\n",
       "      <td>12346</td>\n",
       "      <td>326</td>\n",
       "      <td>1</td>\n",
       "      <td>77183.60</td>\n",
       "    </tr>\n",
       "    <tr>\n",
       "      <th>2</th>\n",
       "      <td>12347</td>\n",
       "      <td>3</td>\n",
       "      <td>132</td>\n",
       "      <td>3124.96</td>\n",
       "    </tr>\n",
       "    <tr>\n",
       "      <th>3</th>\n",
       "      <td>12348</td>\n",
       "      <td>76</td>\n",
       "      <td>20</td>\n",
       "      <td>1009.88</td>\n",
       "    </tr>\n",
       "    <tr>\n",
       "      <th>4</th>\n",
       "      <td>12349</td>\n",
       "      <td>19</td>\n",
       "      <td>50</td>\n",
       "      <td>1344.17</td>\n",
       "    </tr>\n",
       "    <tr>\n",
       "      <th>5</th>\n",
       "      <td>12350</td>\n",
       "      <td>311</td>\n",
       "      <td>11</td>\n",
       "      <td>213.30</td>\n",
       "    </tr>\n",
       "    <tr>\n",
       "      <th>...</th>\n",
       "      <td>...</td>\n",
       "      <td>...</td>\n",
       "      <td>...</td>\n",
       "      <td>...</td>\n",
       "    </tr>\n",
       "    <tr>\n",
       "      <th>4316</th>\n",
       "      <td>18280</td>\n",
       "      <td>278</td>\n",
       "      <td>5</td>\n",
       "      <td>91.70</td>\n",
       "    </tr>\n",
       "    <tr>\n",
       "      <th>4317</th>\n",
       "      <td>18281</td>\n",
       "      <td>181</td>\n",
       "      <td>5</td>\n",
       "      <td>59.28</td>\n",
       "    </tr>\n",
       "    <tr>\n",
       "      <th>4318</th>\n",
       "      <td>18282</td>\n",
       "      <td>8</td>\n",
       "      <td>8</td>\n",
       "      <td>119.61</td>\n",
       "    </tr>\n",
       "    <tr>\n",
       "      <th>4319</th>\n",
       "      <td>18283</td>\n",
       "      <td>4</td>\n",
       "      <td>511</td>\n",
       "      <td>1450.29</td>\n",
       "    </tr>\n",
       "    <tr>\n",
       "      <th>4320</th>\n",
       "      <td>18287</td>\n",
       "      <td>43</td>\n",
       "      <td>50</td>\n",
       "      <td>1430.78</td>\n",
       "    </tr>\n",
       "  </tbody>\n",
       "</table>\n",
       "<p>4320 rows × 4 columns</p>\n",
       "</div>"
      ],
      "text/plain": [
       "     Customer ID  Recency  Frequency  Monetary\n",
       "1          12346      326          1  77183.60\n",
       "2          12347        3        132   3124.96\n",
       "3          12348       76         20   1009.88\n",
       "4          12349       19         50   1344.17\n",
       "5          12350      311         11    213.30\n",
       "...          ...      ...        ...       ...\n",
       "4316       18280      278          5     91.70\n",
       "4317       18281      181          5     59.28\n",
       "4318       18282        8          8    119.61\n",
       "4319       18283        4        511   1450.29\n",
       "4320       18287       43         50   1430.78\n",
       "\n",
       "[4320 rows x 4 columns]"
      ]
     },
     "execution_count": 105,
     "metadata": {},
     "output_type": "execute_result"
    }
   ],
   "source": [
    "# Final RFM Table\n",
    "rfm_df = df_recency.merge(df_frequency, on='Customer ID')\n",
    "rfm_df = rfm_df.merge(df_monetary, on=\"Customer ID\")\n",
    "rfm_df.index = rfm_df.index + 1\n",
    "rfm_df"
   ]
  },
  {
   "cell_type": "markdown",
   "metadata": {},
   "source": [
    "### Calculating the RFM score"
   ]
  },
  {
   "cell_type": "code",
   "execution_count": null,
   "metadata": {},
   "outputs": [
    {
     "data": {
      "text/html": [
       "<div>\n",
       "<style scoped>\n",
       "    .dataframe tbody tr th:only-of-type {\n",
       "        vertical-align: middle;\n",
       "    }\n",
       "\n",
       "    .dataframe tbody tr th {\n",
       "        vertical-align: top;\n",
       "    }\n",
       "\n",
       "    .dataframe thead th {\n",
       "        text-align: right;\n",
       "    }\n",
       "</style>\n",
       "<table border=\"1\" class=\"dataframe\">\n",
       "  <thead>\n",
       "    <tr style=\"text-align: right;\">\n",
       "      <th></th>\n",
       "      <th>Customer ID</th>\n",
       "      <th>Recency</th>\n",
       "      <th>Frequency</th>\n",
       "      <th>Monetary</th>\n",
       "      <th>R_rank_norm</th>\n",
       "      <th>F_rank_norm</th>\n",
       "      <th>M_rank_norm</th>\n",
       "      <th>RFM_Score</th>\n",
       "    </tr>\n",
       "  </thead>\n",
       "  <tbody>\n",
       "    <tr>\n",
       "      <th>1</th>\n",
       "      <td>12346</td>\n",
       "      <td>326</td>\n",
       "      <td>1</td>\n",
       "      <td>77183.60</td>\n",
       "      <td>3.868944</td>\n",
       "      <td>1.122685</td>\n",
       "      <td>99.837963</td>\n",
       "      <td>5.78</td>\n",
       "    </tr>\n",
       "    <tr>\n",
       "      <th>2</th>\n",
       "      <td>12347</td>\n",
       "      <td>3</td>\n",
       "      <td>132</td>\n",
       "      <td>3124.96</td>\n",
       "      <td>96.189148</td>\n",
       "      <td>88.576389</td>\n",
       "      <td>92.708333</td>\n",
       "      <td>9.21</td>\n",
       "    </tr>\n",
       "    <tr>\n",
       "      <th>3</th>\n",
       "      <td>12348</td>\n",
       "      <td>76</td>\n",
       "      <td>20</td>\n",
       "      <td>1009.88</td>\n",
       "      <td>38.213082</td>\n",
       "      <td>38.935185</td>\n",
       "      <td>71.226852</td>\n",
       "      <td>5.72</td>\n",
       "    </tr>\n",
       "    <tr>\n",
       "      <th>4</th>\n",
       "      <td>12349</td>\n",
       "      <td>19</td>\n",
       "      <td>50</td>\n",
       "      <td>1344.17</td>\n",
       "      <td>74.416173</td>\n",
       "      <td>65.949074</td>\n",
       "      <td>78.425926</td>\n",
       "      <td>7.43</td>\n",
       "    </tr>\n",
       "    <tr>\n",
       "      <th>5</th>\n",
       "      <td>12350</td>\n",
       "      <td>311</td>\n",
       "      <td>11</td>\n",
       "      <td>213.30</td>\n",
       "      <td>5.356105</td>\n",
       "      <td>23.148148</td>\n",
       "      <td>25.486111</td>\n",
       "      <td>2.18</td>\n",
       "    </tr>\n",
       "  </tbody>\n",
       "</table>\n",
       "</div>"
      ],
      "text/plain": [
       "  Customer ID  Recency  Frequency  Monetary  R_rank_norm  F_rank_norm  \\\n",
       "1       12346      326          1  77183.60     3.868944     1.122685   \n",
       "2       12347        3        132   3124.96    96.189148    88.576389   \n",
       "3       12348       76         20   1009.88    38.213082    38.935185   \n",
       "4       12349       19         50   1344.17    74.416173    65.949074   \n",
       "5       12350      311         11    213.30     5.356105    23.148148   \n",
       "\n",
       "   M_rank_norm  RFM_Score  \n",
       "1    99.837963       5.78  \n",
       "2    92.708333       9.21  \n",
       "3    71.226852       5.72  \n",
       "4    78.425926       7.43  \n",
       "5    25.486111       2.18  "
      ]
     },
     "execution_count": 126,
     "metadata": {},
     "output_type": "execute_result"
    }
   ],
   "source": [
    "\n",
    "# The results must now be normalized in order to rank the customer\n",
    "# Recency is better when lower, hence the lower the score the higher the rank\n",
    "rfm_df['R_rank'] = rfm_df['Recency'].rank(ascending=False)\n",
    "rfm_df['F_rank'] = rfm_df['Frequency'].rank(ascending=True)\n",
    "rfm_df['M_rank'] = rfm_df['Monetary'].rank(ascending=True)\n",
    " \n",
    "# normalizing the rank of the customers\n",
    "rfm_df['R_rank_norm'] = (rfm_df['R_rank']/rfm_df['R_rank'].max())*100\n",
    "rfm_df['F_rank_norm'] = (rfm_df['F_rank']/rfm_df['F_rank'].max())*100\n",
    "rfm_df['M_rank_norm'] = (rfm_df['M_rank']/rfm_df['M_rank'].max())*100\n",
    " \n",
    "rfm_df.drop(columns=['R_rank', 'F_rank', 'M_rank'], inplace=True)\n",
    " \n",
    "rfm_df.head()"
   ]
  },
  {
   "cell_type": "code",
   "execution_count": null,
   "metadata": {},
   "outputs": [
    {
     "data": {
      "text/html": [
       "<div>\n",
       "<style scoped>\n",
       "    .dataframe tbody tr th:only-of-type {\n",
       "        vertical-align: middle;\n",
       "    }\n",
       "\n",
       "    .dataframe tbody tr th {\n",
       "        vertical-align: top;\n",
       "    }\n",
       "\n",
       "    .dataframe thead th {\n",
       "        text-align: right;\n",
       "    }\n",
       "</style>\n",
       "<table border=\"1\" class=\"dataframe\">\n",
       "  <thead>\n",
       "    <tr style=\"text-align: right;\">\n",
       "      <th></th>\n",
       "      <th>Customer ID</th>\n",
       "      <th>RFM_Score</th>\n",
       "    </tr>\n",
       "  </thead>\n",
       "  <tbody>\n",
       "    <tr>\n",
       "      <th>1871</th>\n",
       "      <td>14911</td>\n",
       "      <td>4.99</td>\n",
       "    </tr>\n",
       "    <tr>\n",
       "      <th>2167</th>\n",
       "      <td>15311</td>\n",
       "      <td>4.99</td>\n",
       "    </tr>\n",
       "    <tr>\n",
       "      <th>1681</th>\n",
       "      <td>14646</td>\n",
       "      <td>4.99</td>\n",
       "    </tr>\n",
       "    <tr>\n",
       "      <th>327</th>\n",
       "      <td>12748</td>\n",
       "      <td>4.98</td>\n",
       "    </tr>\n",
       "    <tr>\n",
       "      <th>3994</th>\n",
       "      <td>17841</td>\n",
       "      <td>4.97</td>\n",
       "    </tr>\n",
       "    <tr>\n",
       "      <th>...</th>\n",
       "      <td>...</td>\n",
       "      <td>...</td>\n",
       "    </tr>\n",
       "    <tr>\n",
       "      <th>1644</th>\n",
       "      <td>14589</td>\n",
       "      <td>0.07</td>\n",
       "    </tr>\n",
       "    <tr>\n",
       "      <th>1634</th>\n",
       "      <td>14576</td>\n",
       "      <td>0.06</td>\n",
       "    </tr>\n",
       "    <tr>\n",
       "      <th>1807</th>\n",
       "      <td>14821</td>\n",
       "      <td>0.04</td>\n",
       "    </tr>\n",
       "    <tr>\n",
       "      <th>1525</th>\n",
       "      <td>14437</td>\n",
       "      <td>0.03</td>\n",
       "    </tr>\n",
       "    <tr>\n",
       "      <th>2546</th>\n",
       "      <td>15823</td>\n",
       "      <td>0.03</td>\n",
       "    </tr>\n",
       "  </tbody>\n",
       "</table>\n",
       "<p>4320 rows × 2 columns</p>\n",
       "</div>"
      ],
      "text/plain": [
       "     Customer ID  RFM_Score\n",
       "1871       14911       4.99\n",
       "2167       15311       4.99\n",
       "1681       14646       4.99\n",
       "327        12748       4.98\n",
       "3994       17841       4.97\n",
       "...          ...        ...\n",
       "1644       14589       0.07\n",
       "1634       14576       0.06\n",
       "1807       14821       0.04\n",
       "1525       14437       0.03\n",
       "2546       15823       0.03\n",
       "\n",
       "[4320 rows x 2 columns]"
      ]
     },
     "execution_count": 129,
     "metadata": {},
     "output_type": "execute_result"
    }
   ],
   "source": [
    "\n",
    "# Different weights will be given for each rank\n",
    "# Recency receives least, while monetary receives the most\n",
    "rfm_df['RFM_Score'] = 0.15*rfm_df['R_rank_norm'] + 0.28* \\\n",
    "    rfm_df['F_rank_norm'] + 0.57*rfm_df['M_rank_norm']\n",
    "\n",
    "# The RFM score will be out of 10 and consist of 2 decimal places\n",
    "rfm_df['RFM_Score'] *= 0.05\n",
    "rfm_df = rfm_df.round(2)\n",
    "rfm_df[['Customer ID', 'RFM_Score']].sort_values(by=[\"RFM_Score\"], ascending=False)"
   ]
  },
  {
   "cell_type": "markdown",
   "metadata": {},
   "source": [
    "### RFM Segmentation"
   ]
  },
  {
   "cell_type": "code",
   "execution_count": null,
   "metadata": {},
   "outputs": [
    {
     "data": {
      "text/plain": [
       "Newest        2665\n",
       "Recent         609\n",
       "Occasional     418\n",
       "Seasonal       356\n",
       "Lost           272\n",
       "Name: recency_labels, dtype: int64"
      ]
     },
     "execution_count": 154,
     "metadata": {},
     "output_type": "execute_result"
    },
    {
     "data": {
      "image/png": "[encoded data removed]",
      "text/plain": [
       "<Figure size 432x288 with 1 Axes>"
      ]
     },
     "metadata": {
      "needs_background": "light"
     },
     "output_type": "display_data"
    }
   ],
   "source": [
    "rfm_segs = pd.DataFrame()\n",
    "rfm_segs[\"recency_labels\"] = pd.cut(rfm_df[\"Recency\"], bins=5, \n",
    "    labels=[\"Newest\", \"Recent\", \"Occasional\", \"Seasonal\", \"Lost\"])\n",
    "rfm_segs[\"recency_labels\"].value_counts().plot(kind=\"barh\");\n",
    "rfm_segs[\"recency_labels\"].value_counts()"
   ]
  },
  {
   "cell_type": "code",
   "execution_count": null,
   "metadata": {},
   "outputs": [
    {
     "data": {
      "text/plain": [
       "Least frequent    4310\n",
       "Less frequent        6\n",
       "More frequent        2\n",
       "Frequent             1\n",
       "Most frequent        1\n",
       "Name: frequency_labels, dtype: int64"
      ]
     },
     "execution_count": 146,
     "metadata": {},
     "output_type": "execute_result"
    },
    {
     "data": {
      "image/png": "[encoded data removed]",
      "text/plain": [
       "<Figure size 432x288 with 1 Axes>"
      ]
     },
     "metadata": {
      "needs_background": "light"
     },
     "output_type": "display_data"
    }
   ],
   "source": [
    "rfm_segs[\"frequency_labels\"] = pd.cut(rfm_df[\"Frequency\"], bins=5, \n",
    "    labels=[\"Least frequent\", \"Less frequent\", \"Frequent\", \"More frequent\", \"Most frequent\"])\n",
    "rfm_segs[\"frequency_labels\"].value_counts().plot(kind=\"barh\");\n",
    "rfm_segs[\"frequency_labels\"].value_counts()"
   ]
  },
  {
   "cell_type": "code",
   "execution_count": null,
   "metadata": {},
   "outputs": [
    {
     "data": {
      "text/plain": [
       "1674"
      ]
     },
     "execution_count": 153,
     "metadata": {},
     "output_type": "execute_result"
    }
   ],
   "source": [
    "len(rfm_df[rfm_df[\"Recency\"]>rfm_df[\"Recency\"].max()//5])"
   ]
  },
  {
   "cell_type": "markdown",
   "metadata": {},
   "source": [
    "# Applying to the test data"
   ]
  },
  {
   "cell_type": "code",
   "execution_count": null,
   "metadata": {},
   "outputs": [],
   "source": [
    "# Apply all the previous steps to the test data\n",
    "df_test = pd.read_excel(\"./datasets/test.xlsx\")\n",
    "\n",
    "empty_cols = df_test.columns[df_test.isna().any()].tolist()\n",
    "# Add the number of missing data next to the column name\n",
    "for x, i in enumerate(empty_cols):\n",
    "    if i in df_test.columns:\n",
    "        empty_cols[x] = empty_cols[x] + f\" {df_test[i].isnull().sum()}\"\n",
    "print(empty_cols)\n",
    "\n",
    "# Drop NaN, description column and fix the customer ID format\n",
    "df_test = df_test.dropna()\n",
    "df_test = df_test.drop([\"Description\"], axis=1)\n",
    "df_test[\"CustomerID\"] = df_test[\"CustomerID\"].astype(int).astype(str)\n",
    "\n",
    "df_test = df_test[df_test[\"Quantity\"] >= 0]\n",
    "df_test = df_test[df_test[\"UnitPrice\"] > 0]"
   ]
  },
  {
   "cell_type": "code",
   "execution_count": null,
   "metadata": {},
   "outputs": [],
   "source": [
    "# Add a new column that indicates the month only\n",
    "df[\"month_year\"] = df.InvoiceDate.dt.to_period(\"M\")\n",
    "df[\"month_year\"].unique()"
   ]
  }
 ],
 "metadata": {
  "kernelspec": {
   "display_name": "Python 3.9.12 ('tf')",
   "language": "python",
   "name": "python3"
  },
  "language_info": {
   "codemirror_mode": {
    "name": "ipython",
    "version": 3
   },
   "file_extension": ".py",
   "mimetype": "text/x-python",
   "name": "python",
   "nbconvert_exporter": "python",
   "pygments_lexer": "ipython3",
   "version": "3.9.12"
  },
  "orig_nbformat": 4,
  "vscode": {
   "interpreter": {
    "hash": "2d974c4b7c9167b3c2df7ef2f40c9ab050914ef25a32a81d1263224e0dc77032"
   }
  }
 },
 "nbformat": 4,
 "nbformat_minor": 2
}
