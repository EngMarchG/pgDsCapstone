{
 "cells": [
  {
   "cell_type": "markdown",
   "metadata": {},
   "source": [
    "# Retail ML Project\n",
    "Problem statement:\n",
    "- It is a business critical requirement to understand the value derived from a customer. RFM is a method used for analyzing customer value.\n",
    "- Perform customer segmentation using RFM analysis. The resulting segments can be ordered from most valuable (highest recency, frequency, and value) to least valuable (lowest recency, frequency, and value). \n",
    "- Identifying the most valuable RFM segments can capitalize on chance relationships in the data used for this analysis.\n",
    "\n",
    "\n",
    "Objectives:\n",
    "- Data Cleaning\n",
    "- Data Transformation\n",
    "- Data Modeling\n"
   ]
  },
  {
   "cell_type": "markdown",
   "metadata": {},
   "source": [
    "Data Description:\n",
    "- InvoiceNo: Invoice number. Nominal, a 6-digit integral number uniquely assigned to each transaction. If this code starts with letter 'c', it indicates a cancellation.\n",
    "- StockCode: Product (item) code. Nominal, a 5-digit integral number uniquely assigned to each distinct product. \n",
    "- Description: Product (item) name. Nominal. \n",
    "-Quantity: The quantities of each product (item) per transaction. Numeric. \n",
    "- InvoiceDate: Invoice Date and time. Numeric, the day and time when each transaction was generated. \n",
    "- UnitPrice: Unit price. Numeric, Product price per unit in sterling. \n",
    "- CustomerID: Customer number. Nominal, a 5-digit integral number uniquely assigned to each customer. \n",
    "- Country: Country name. Nominal, the name of the country where each customer resides.\n"
   ]
  },
  {
   "cell_type": "markdown",
   "metadata": {},
   "source": [
    "## Data Cleaning\n",
    "- Insepect the data and understand it \n",
    "- Clean the data to improve quality"
   ]
  },
  {
   "cell_type": "markdown",
   "metadata": {},
   "source": [
    "### Inspecting the data"
   ]
  },
  {
   "cell_type": "code",
   "execution_count": 48,
   "metadata": {},
   "outputs": [],
   "source": [
    "import pandas as pd\n",
    "import numpy as np\n",
    "import matplotlib.pyplot as plt\n",
    "import seaborn as sns\n",
    "# pip install openpyxl\n",
    "import openpyxl"
   ]
  },
  {
   "cell_type": "code",
   "execution_count": 49,
   "metadata": {},
   "outputs": [],
   "source": [
    "# Step 0 - Open the excel file and read the descriptions\n",
    "# Load the dataset and check it \n",
    "df = pd.read_excel(\"./datasets/Online Retail.xlsx\")"
   ]
  },
  {
   "cell_type": "code",
   "execution_count": 50,
   "metadata": {},
   "outputs": [
    {
     "name": "stdout",
     "output_type": "stream",
     "text": [
      "<class 'pandas.core.frame.DataFrame'>\n",
      "RangeIndex: 541909 entries, 0 to 541908\n",
      "Data columns (total 8 columns):\n",
      " #   Column       Non-Null Count   Dtype         \n",
      "---  ------       --------------   -----         \n",
      " 0   InvoiceNo    541909 non-null  object        \n",
      " 1   StockCode    541909 non-null  object        \n",
      " 2   Description  540455 non-null  object        \n",
      " 3   Quantity     541909 non-null  int64         \n",
      " 4   InvoiceDate  541909 non-null  datetime64[ns]\n",
      " 5   UnitPrice    541909 non-null  float64       \n",
      " 6   CustomerID   406829 non-null  float64       \n",
      " 7   Country      541909 non-null  object        \n",
      "dtypes: datetime64[ns](1), float64(2), int64(1), object(4)\n",
      "memory usage: 33.1+ MB\n"
     ]
    }
   ],
   "source": [
    "# 379336 rows and 8 columns\n",
    "df.info()"
   ]
  },
  {
   "cell_type": "markdown",
   "metadata": {},
   "source": [
    "### Cleaning the data\n",
    "- Drop duplicates\n",
    "- Check for NaN\n",
    "- Format the data\n",
    "- Check for unreasonable values"
   ]
  },
  {
   "cell_type": "code",
   "execution_count": 51,
   "metadata": {},
   "outputs": [],
   "source": [
    "# Drop duplicates\n",
    "df = df.drop_duplicates()"
   ]
  },
  {
   "cell_type": "code",
   "execution_count": 52,
   "metadata": {},
   "outputs": [
    {
     "name": "stdout",
     "output_type": "stream",
     "text": [
      "['Description 1454', 'CustomerID 135037']\n"
     ]
    }
   ],
   "source": [
    "# df.isnull().sum() # Also works since there are little columns\n",
    "# First find the column names that have missing data\n",
    "empty_cols = df.columns[df.isna().any()].tolist()\n",
    "\n",
    "# Add the number of missing data next to the column name\n",
    "for x, i in enumerate(empty_cols):\n",
    "    if i in df.columns:\n",
    "        empty_cols[x] = empty_cols[x] + f\" {df[i].isnull().sum()}\"\n",
    "print(empty_cols)\n"
   ]
  },
  {
   "cell_type": "markdown",
   "metadata": {},
   "source": [
    "NLP will not be used in this model. Hence, the description column can be safely dropped.\n",
    "\n",
    "On the other hand, missing customer id cannot be averaged and must have the row dropped."
   ]
  },
  {
   "cell_type": "code",
   "execution_count": 53,
   "metadata": {},
   "outputs": [
    {
     "data": {
      "text/plain": [
       "(401604, 7)"
      ]
     },
     "execution_count": 53,
     "metadata": {},
     "output_type": "execute_result"
    }
   ],
   "source": [
    "df = df.dropna()\n",
    "df = df.drop([\"Description\"], axis=1)\n",
    "df.shape"
   ]
  },
  {
   "cell_type": "code",
   "execution_count": 54,
   "metadata": {},
   "outputs": [],
   "source": [
    "# Convert CustomerID to a string\n",
    "df[\"CustomerID\"] = df[\"CustomerID\"].astype(int).astype(str)"
   ]
  },
  {
   "cell_type": "code",
   "execution_count": 55,
   "metadata": {},
   "outputs": [
    {
     "data": {
      "text/html": [
       "<div>\n",
       "<style scoped>\n",
       "    .dataframe tbody tr th:only-of-type {\n",
       "        vertical-align: middle;\n",
       "    }\n",
       "\n",
       "    .dataframe tbody tr th {\n",
       "        vertical-align: top;\n",
       "    }\n",
       "\n",
       "    .dataframe thead th {\n",
       "        text-align: right;\n",
       "    }\n",
       "</style>\n",
       "<table border=\"1\" class=\"dataframe\">\n",
       "  <thead>\n",
       "    <tr style=\"text-align: right;\">\n",
       "      <th></th>\n",
       "      <th>InvoiceNo</th>\n",
       "      <th>StockCode</th>\n",
       "      <th>Quantity</th>\n",
       "      <th>InvoiceDate</th>\n",
       "      <th>UnitPrice</th>\n",
       "      <th>CustomerID</th>\n",
       "      <th>Country</th>\n",
       "    </tr>\n",
       "  </thead>\n",
       "  <tbody>\n",
       "    <tr>\n",
       "      <th>0</th>\n",
       "      <td>536365</td>\n",
       "      <td>85123A</td>\n",
       "      <td>6</td>\n",
       "      <td>2010-12-01 08:26:00</td>\n",
       "      <td>2.55</td>\n",
       "      <td>17850</td>\n",
       "      <td>United Kingdom</td>\n",
       "    </tr>\n",
       "    <tr>\n",
       "      <th>1</th>\n",
       "      <td>536365</td>\n",
       "      <td>71053</td>\n",
       "      <td>6</td>\n",
       "      <td>2010-12-01 08:26:00</td>\n",
       "      <td>3.39</td>\n",
       "      <td>17850</td>\n",
       "      <td>United Kingdom</td>\n",
       "    </tr>\n",
       "    <tr>\n",
       "      <th>2</th>\n",
       "      <td>536365</td>\n",
       "      <td>84406B</td>\n",
       "      <td>8</td>\n",
       "      <td>2010-12-01 08:26:00</td>\n",
       "      <td>2.75</td>\n",
       "      <td>17850</td>\n",
       "      <td>United Kingdom</td>\n",
       "    </tr>\n",
       "    <tr>\n",
       "      <th>3</th>\n",
       "      <td>536365</td>\n",
       "      <td>84029G</td>\n",
       "      <td>6</td>\n",
       "      <td>2010-12-01 08:26:00</td>\n",
       "      <td>3.39</td>\n",
       "      <td>17850</td>\n",
       "      <td>United Kingdom</td>\n",
       "    </tr>\n",
       "    <tr>\n",
       "      <th>4</th>\n",
       "      <td>536365</td>\n",
       "      <td>84029E</td>\n",
       "      <td>6</td>\n",
       "      <td>2010-12-01 08:26:00</td>\n",
       "      <td>3.39</td>\n",
       "      <td>17850</td>\n",
       "      <td>United Kingdom</td>\n",
       "    </tr>\n",
       "    <tr>\n",
       "      <th>...</th>\n",
       "      <td>...</td>\n",
       "      <td>...</td>\n",
       "      <td>...</td>\n",
       "      <td>...</td>\n",
       "      <td>...</td>\n",
       "      <td>...</td>\n",
       "      <td>...</td>\n",
       "    </tr>\n",
       "    <tr>\n",
       "      <th>541904</th>\n",
       "      <td>581587</td>\n",
       "      <td>22613</td>\n",
       "      <td>12</td>\n",
       "      <td>2011-12-09 12:50:00</td>\n",
       "      <td>0.85</td>\n",
       "      <td>12680</td>\n",
       "      <td>France</td>\n",
       "    </tr>\n",
       "    <tr>\n",
       "      <th>541905</th>\n",
       "      <td>581587</td>\n",
       "      <td>22899</td>\n",
       "      <td>6</td>\n",
       "      <td>2011-12-09 12:50:00</td>\n",
       "      <td>2.10</td>\n",
       "      <td>12680</td>\n",
       "      <td>France</td>\n",
       "    </tr>\n",
       "    <tr>\n",
       "      <th>541906</th>\n",
       "      <td>581587</td>\n",
       "      <td>23254</td>\n",
       "      <td>4</td>\n",
       "      <td>2011-12-09 12:50:00</td>\n",
       "      <td>4.15</td>\n",
       "      <td>12680</td>\n",
       "      <td>France</td>\n",
       "    </tr>\n",
       "    <tr>\n",
       "      <th>541907</th>\n",
       "      <td>581587</td>\n",
       "      <td>23255</td>\n",
       "      <td>4</td>\n",
       "      <td>2011-12-09 12:50:00</td>\n",
       "      <td>4.15</td>\n",
       "      <td>12680</td>\n",
       "      <td>France</td>\n",
       "    </tr>\n",
       "    <tr>\n",
       "      <th>541908</th>\n",
       "      <td>581587</td>\n",
       "      <td>22138</td>\n",
       "      <td>3</td>\n",
       "      <td>2011-12-09 12:50:00</td>\n",
       "      <td>4.95</td>\n",
       "      <td>12680</td>\n",
       "      <td>France</td>\n",
       "    </tr>\n",
       "  </tbody>\n",
       "</table>\n",
       "<p>401604 rows × 7 columns</p>\n",
       "</div>"
      ],
      "text/plain": [
       "       InvoiceNo StockCode  Quantity         InvoiceDate  UnitPrice  \\\n",
       "0         536365    85123A         6 2010-12-01 08:26:00       2.55   \n",
       "1         536365     71053         6 2010-12-01 08:26:00       3.39   \n",
       "2         536365    84406B         8 2010-12-01 08:26:00       2.75   \n",
       "3         536365    84029G         6 2010-12-01 08:26:00       3.39   \n",
       "4         536365    84029E         6 2010-12-01 08:26:00       3.39   \n",
       "...          ...       ...       ...                 ...        ...   \n",
       "541904    581587     22613        12 2011-12-09 12:50:00       0.85   \n",
       "541905    581587     22899         6 2011-12-09 12:50:00       2.10   \n",
       "541906    581587     23254         4 2011-12-09 12:50:00       4.15   \n",
       "541907    581587     23255         4 2011-12-09 12:50:00       4.15   \n",
       "541908    581587     22138         3 2011-12-09 12:50:00       4.95   \n",
       "\n",
       "       CustomerID         Country  \n",
       "0           17850  United Kingdom  \n",
       "1           17850  United Kingdom  \n",
       "2           17850  United Kingdom  \n",
       "3           17850  United Kingdom  \n",
       "4           17850  United Kingdom  \n",
       "...           ...             ...  \n",
       "541904      12680          France  \n",
       "541905      12680          France  \n",
       "541906      12680          France  \n",
       "541907      12680          France  \n",
       "541908      12680          France  \n",
       "\n",
       "[401604 rows x 7 columns]"
      ]
     },
     "execution_count": 55,
     "metadata": {},
     "output_type": "execute_result"
    }
   ],
   "source": [
    "df"
   ]
  },
  {
   "cell_type": "code",
   "execution_count": 56,
   "metadata": {},
   "outputs": [
    {
     "name": "stdout",
     "output_type": "stream",
     "text": [
      "Column Quantity has negative numbers\n",
      "Column UnitPrice has 0s\n"
     ]
    }
   ],
   "source": [
    "# Check if the numeric columns have any sketchy numbers\n",
    "for col in df.columns:\n",
    "    if df[col].dtype in [\"int64\", \"float64\", \"int32\", \"int16\", \"float32\"]:\n",
    "        if (df[col] < 0).any():\n",
    "            print(f\"Column {col} has negative numbers\")\n",
    "        elif (df[col] == 0).any():\n",
    "            print(f\"Column {col} has 0s\")"
   ]
  },
  {
   "cell_type": "code",
   "execution_count": 57,
   "metadata": {},
   "outputs": [
    {
     "data": {
      "text/plain": [
       "(40, 8872)"
      ]
     },
     "execution_count": 57,
     "metadata": {},
     "output_type": "execute_result"
    }
   ],
   "source": [
    "# Unit price cannot be 0, and discounts usually avoid such exploits.\n",
    "len(df[df[\"UnitPrice\"]==0]), len(df[df[\"Quantity\"]<0])"
   ]
  },
  {
   "cell_type": "code",
   "execution_count": 58,
   "metadata": {},
   "outputs": [
    {
     "data": {
      "text/plain": [
       "(392692, 7)"
      ]
     },
     "execution_count": 58,
     "metadata": {},
     "output_type": "execute_result"
    }
   ],
   "source": [
    "df = df[df[\"Quantity\"] >= 0]\n",
    "df = df[df[\"UnitPrice\"] > 0]\n",
    "df.shape"
   ]
  },
  {
   "cell_type": "markdown",
   "metadata": {},
   "source": [
    "## Data Transformation\n",
    "- Create monthly cohorts to analyze active customers\n",
    "- Analyze the retention rate of customers"
   ]
  },
  {
   "cell_type": "code",
   "execution_count": 59,
   "metadata": {},
   "outputs": [
    {
     "data": {
      "text/plain": [
       "<PeriodArray>\n",
       "['2010-12', '2011-01', '2011-02', '2011-03', '2011-04', '2011-05', '2011-06',\n",
       " '2011-07', '2011-08', '2011-09', '2011-10', '2011-11', '2011-12']\n",
       "Length: 13, dtype: period[M]"
      ]
     },
     "execution_count": 59,
     "metadata": {},
     "output_type": "execute_result"
    }
   ],
   "source": [
    "# Add a new column that indicates the month only\n",
    "# Add another column for the date without the time\n",
    "df[\"month_year\"] = df.InvoiceDate.dt.to_period(\"M\")\n",
    "df[\"purchase_date\"] = df[\"InvoiceDate\"].dt.to_period(\"D\")\n",
    "df[\"month_year\"].unique()"
   ]
  },
  {
   "cell_type": "code",
   "execution_count": 60,
   "metadata": {},
   "outputs": [
    {
     "data": {
      "text/plain": [
       "month_year\n",
       "2010-12     885\n",
       "2011-01     741\n",
       "2011-02     758\n",
       "2011-03     974\n",
       "2011-04     856\n",
       "2011-05    1056\n",
       "2011-06     991\n",
       "2011-07     949\n",
       "2011-08     935\n",
       "2011-09    1266\n",
       "2011-10    1364\n",
       "2011-11    1664\n",
       "2011-12     615\n",
       "Freq: M, Name: CustomerID, dtype: int64"
      ]
     },
     "execution_count": 60,
     "metadata": {},
     "output_type": "execute_result"
    }
   ],
   "source": [
    "# Find the monthly unique active users\n",
    "monthly_customers = df.groupby(\"month_year\")[\"CustomerID\"].nunique()\n",
    "monthly_customers"
   ]
  },
  {
   "cell_type": "code",
   "execution_count": 61,
   "metadata": {},
   "outputs": [
    {
     "data": {
      "text/plain": [
       "Text(0.5, 0, 'Number of unique active users')"
      ]
     },
     "execution_count": 61,
     "metadata": {},
     "output_type": "execute_result"
    },
    {
     "data": {
      "image/png": "[encoded data removed]",
      "text/plain": [
       "<Figure size 720x360 with 1 Axes>"
      ]
     },
     "metadata": {
      "needs_background": "light"
     },
     "output_type": "display_data"
    }
   ],
   "source": [
    "plt.figure(figsize=(10, 5))\n",
    "sns.barplot(y=monthly_customers.index, x=monthly_customers.values)\n",
    "plt.title(\"Unique active users per month\")\n",
    "plt.ylabel(\"Month and year\")\n",
    "plt.xlabel(\"Number of unique active users\")"
   ]
  },
  {
   "cell_type": "code",
   "execution_count": 62,
   "metadata": {},
   "outputs": [],
   "source": [
    "# Find the % change from the previous row\n",
    "retention_rate = round(monthly_customers.pct_change(1)*100,2)"
   ]
  },
  {
   "cell_type": "code",
   "execution_count": 63,
   "metadata": {},
   "outputs": [
    {
     "data": {
      "text/plain": [
       "<AxesSubplot:ylabel='month_year'>"
      ]
     },
     "execution_count": 63,
     "metadata": {},
     "output_type": "execute_result"
    },
    {
     "data": {
      "image/png": "[encoded data removed]",
      "text/plain": [
       "<Figure size 720x360 with 1 Axes>"
      ]
     },
     "metadata": {
      "needs_background": "light"
     },
     "output_type": "display_data"
    }
   ],
   "source": [
    "plt.figure(figsize=(10, 5))\n",
    "sns.barplot(x=retention_rate.values, y= retention_rate.index)"
   ]
  },
  {
   "cell_type": "markdown",
   "metadata": {},
   "source": [
    "It is clear that the retention rate of the company is poor. \n",
    "\n",
    "The retention rate may also be seasonal considering how the highest spikes in customer retention occurs during the months closer to thanksgiving and christmas."
   ]
  },
  {
   "cell_type": "markdown",
   "metadata": {},
   "source": [
    "## Data Modeling\n",
    "- Build an RFM model\n",
    "- Calculate RFM metrics\n",
    "- Build RFM segments"
   ]
  },
  {
   "cell_type": "markdown",
   "metadata": {},
   "source": [
    "### Building an RFM model"
   ]
  },
  {
   "cell_type": "code",
   "execution_count": 64,
   "metadata": {},
   "outputs": [
    {
     "data": {
      "text/plain": [
       "Period('2011-12-09', 'D')"
      ]
     },
     "execution_count": 64,
     "metadata": {},
     "output_type": "execute_result"
    }
   ],
   "source": [
    "# The latest data has dates up to 2011-12-09\n",
    "# The reference date will be the day after 2011-12-10\n",
    "df[\"purchase_date\"].max()"
   ]
  },
  {
   "cell_type": "code",
   "execution_count": 65,
   "metadata": {},
   "outputs": [
    {
     "data": {
      "text/html": [
       "<div>\n",
       "<style scoped>\n",
       "    .dataframe tbody tr th:only-of-type {\n",
       "        vertical-align: middle;\n",
       "    }\n",
       "\n",
       "    .dataframe tbody tr th {\n",
       "        vertical-align: top;\n",
       "    }\n",
       "\n",
       "    .dataframe thead th {\n",
       "        text-align: right;\n",
       "    }\n",
       "</style>\n",
       "<table border=\"1\" class=\"dataframe\">\n",
       "  <thead>\n",
       "    <tr style=\"text-align: right;\">\n",
       "      <th></th>\n",
       "      <th>Customer ID</th>\n",
       "      <th>Recency</th>\n",
       "    </tr>\n",
       "  </thead>\n",
       "  <tbody>\n",
       "    <tr>\n",
       "      <th>1</th>\n",
       "      <td>12346</td>\n",
       "      <td>326</td>\n",
       "    </tr>\n",
       "    <tr>\n",
       "      <th>2</th>\n",
       "      <td>12347</td>\n",
       "      <td>3</td>\n",
       "    </tr>\n",
       "    <tr>\n",
       "      <th>3</th>\n",
       "      <td>12348</td>\n",
       "      <td>76</td>\n",
       "    </tr>\n",
       "    <tr>\n",
       "      <th>4</th>\n",
       "      <td>12349</td>\n",
       "      <td>19</td>\n",
       "    </tr>\n",
       "    <tr>\n",
       "      <th>5</th>\n",
       "      <td>12350</td>\n",
       "      <td>311</td>\n",
       "    </tr>\n",
       "    <tr>\n",
       "      <th>...</th>\n",
       "      <td>...</td>\n",
       "      <td>...</td>\n",
       "    </tr>\n",
       "    <tr>\n",
       "      <th>4334</th>\n",
       "      <td>18280</td>\n",
       "      <td>278</td>\n",
       "    </tr>\n",
       "    <tr>\n",
       "      <th>4335</th>\n",
       "      <td>18281</td>\n",
       "      <td>181</td>\n",
       "    </tr>\n",
       "    <tr>\n",
       "      <th>4336</th>\n",
       "      <td>18282</td>\n",
       "      <td>8</td>\n",
       "    </tr>\n",
       "    <tr>\n",
       "      <th>4337</th>\n",
       "      <td>18283</td>\n",
       "      <td>4</td>\n",
       "    </tr>\n",
       "    <tr>\n",
       "      <th>4338</th>\n",
       "      <td>18287</td>\n",
       "      <td>43</td>\n",
       "    </tr>\n",
       "  </tbody>\n",
       "</table>\n",
       "<p>4338 rows × 2 columns</p>\n",
       "</div>"
      ],
      "text/plain": [
       "     Customer ID  Recency\n",
       "1          12346      326\n",
       "2          12347        3\n",
       "3          12348       76\n",
       "4          12349       19\n",
       "5          12350      311\n",
       "...          ...      ...\n",
       "4334       18280      278\n",
       "4335       18281      181\n",
       "4336       18282        8\n",
       "4337       18283        4\n",
       "4338       18287       43\n",
       "\n",
       "[4338 rows x 2 columns]"
      ]
     },
     "execution_count": 65,
     "metadata": {},
     "output_type": "execute_result"
    }
   ],
   "source": [
    "# Note that the purchase date was previously stored as a period object\n",
    "# It is converted to a timestamp in the new data frame for conviencence\n",
    "reference_date = pd.to_datetime(\"2011-12-10\")\n",
    "df_recency = df.groupby(\"CustomerID\", as_index=False)[\"purchase_date\"].max()\n",
    "df_recency = df_recency.rename(columns={\"CustomerID\":\"Customer ID\"})\n",
    "df_recency.index = df_recency.index + 1\n",
    "df_recency[\"Recency\"] = df_recency[\"purchase_date\"].apply(lambda row: (reference_date - row.to_timestamp()).days)\n",
    "df_recency.drop(\"purchase_date\", axis=1, inplace=True)\n",
    "df_recency"
   ]
  },
  {
   "cell_type": "code",
   "execution_count": 66,
   "metadata": {},
   "outputs": [
    {
     "data": {
      "text/html": [
       "<div>\n",
       "<style scoped>\n",
       "    .dataframe tbody tr th:only-of-type {\n",
       "        vertical-align: middle;\n",
       "    }\n",
       "\n",
       "    .dataframe tbody tr th {\n",
       "        vertical-align: top;\n",
       "    }\n",
       "\n",
       "    .dataframe thead th {\n",
       "        text-align: right;\n",
       "    }\n",
       "</style>\n",
       "<table border=\"1\" class=\"dataframe\">\n",
       "  <thead>\n",
       "    <tr style=\"text-align: right;\">\n",
       "      <th></th>\n",
       "      <th>Customer ID</th>\n",
       "      <th>Frequency</th>\n",
       "    </tr>\n",
       "  </thead>\n",
       "  <tbody>\n",
       "    <tr>\n",
       "      <th>1</th>\n",
       "      <td>12346</td>\n",
       "      <td>1</td>\n",
       "    </tr>\n",
       "    <tr>\n",
       "      <th>2</th>\n",
       "      <td>12347</td>\n",
       "      <td>182</td>\n",
       "    </tr>\n",
       "    <tr>\n",
       "      <th>3</th>\n",
       "      <td>12348</td>\n",
       "      <td>31</td>\n",
       "    </tr>\n",
       "    <tr>\n",
       "      <th>4</th>\n",
       "      <td>12349</td>\n",
       "      <td>73</td>\n",
       "    </tr>\n",
       "    <tr>\n",
       "      <th>5</th>\n",
       "      <td>12350</td>\n",
       "      <td>17</td>\n",
       "    </tr>\n",
       "    <tr>\n",
       "      <th>...</th>\n",
       "      <td>...</td>\n",
       "      <td>...</td>\n",
       "    </tr>\n",
       "    <tr>\n",
       "      <th>4334</th>\n",
       "      <td>18280</td>\n",
       "      <td>10</td>\n",
       "    </tr>\n",
       "    <tr>\n",
       "      <th>4335</th>\n",
       "      <td>18281</td>\n",
       "      <td>7</td>\n",
       "    </tr>\n",
       "    <tr>\n",
       "      <th>4336</th>\n",
       "      <td>18282</td>\n",
       "      <td>12</td>\n",
       "    </tr>\n",
       "    <tr>\n",
       "      <th>4337</th>\n",
       "      <td>18283</td>\n",
       "      <td>721</td>\n",
       "    </tr>\n",
       "    <tr>\n",
       "      <th>4338</th>\n",
       "      <td>18287</td>\n",
       "      <td>70</td>\n",
       "    </tr>\n",
       "  </tbody>\n",
       "</table>\n",
       "<p>4338 rows × 2 columns</p>\n",
       "</div>"
      ],
      "text/plain": [
       "     Customer ID  Frequency\n",
       "1          12346          1\n",
       "2          12347        182\n",
       "3          12348         31\n",
       "4          12349         73\n",
       "5          12350         17\n",
       "...          ...        ...\n",
       "4334       18280         10\n",
       "4335       18281          7\n",
       "4336       18282         12\n",
       "4337       18283        721\n",
       "4338       18287         70\n",
       "\n",
       "[4338 rows x 2 columns]"
      ]
     },
     "execution_count": 66,
     "metadata": {},
     "output_type": "execute_result"
    }
   ],
   "source": [
    "# The frequency will be over the whole data set, since it spans 1 year only\n",
    "# Group the data according to customer ID then count the number of Inovoices\n",
    "df_frequency = df.groupby(\"CustomerID\", as_index=False)[\"InvoiceNo\"].count()\n",
    "df_frequency.index = df_frequency.index + 1\n",
    "df_frequency.rename(columns={\"CustomerID\":\"Customer ID\", \"InvoiceNo\":\"Frequency\"}, inplace=True)\n",
    "df_frequency"
   ]
  },
  {
   "cell_type": "code",
   "execution_count": 67,
   "metadata": {},
   "outputs": [
    {
     "data": {
      "text/html": [
       "<div>\n",
       "<style scoped>\n",
       "    .dataframe tbody tr th:only-of-type {\n",
       "        vertical-align: middle;\n",
       "    }\n",
       "\n",
       "    .dataframe tbody tr th {\n",
       "        vertical-align: top;\n",
       "    }\n",
       "\n",
       "    .dataframe thead th {\n",
       "        text-align: right;\n",
       "    }\n",
       "</style>\n",
       "<table border=\"1\" class=\"dataframe\">\n",
       "  <thead>\n",
       "    <tr style=\"text-align: right;\">\n",
       "      <th></th>\n",
       "      <th>Customer ID</th>\n",
       "      <th>Monetary</th>\n",
       "    </tr>\n",
       "  </thead>\n",
       "  <tbody>\n",
       "    <tr>\n",
       "      <th>1</th>\n",
       "      <td>12346</td>\n",
       "      <td>77183.60</td>\n",
       "    </tr>\n",
       "    <tr>\n",
       "      <th>2</th>\n",
       "      <td>12347</td>\n",
       "      <td>4310.00</td>\n",
       "    </tr>\n",
       "    <tr>\n",
       "      <th>3</th>\n",
       "      <td>12348</td>\n",
       "      <td>1797.24</td>\n",
       "    </tr>\n",
       "    <tr>\n",
       "      <th>4</th>\n",
       "      <td>12349</td>\n",
       "      <td>1757.55</td>\n",
       "    </tr>\n",
       "    <tr>\n",
       "      <th>5</th>\n",
       "      <td>12350</td>\n",
       "      <td>334.40</td>\n",
       "    </tr>\n",
       "    <tr>\n",
       "      <th>...</th>\n",
       "      <td>...</td>\n",
       "      <td>...</td>\n",
       "    </tr>\n",
       "    <tr>\n",
       "      <th>4334</th>\n",
       "      <td>18280</td>\n",
       "      <td>180.60</td>\n",
       "    </tr>\n",
       "    <tr>\n",
       "      <th>4335</th>\n",
       "      <td>18281</td>\n",
       "      <td>80.82</td>\n",
       "    </tr>\n",
       "    <tr>\n",
       "      <th>4336</th>\n",
       "      <td>18282</td>\n",
       "      <td>178.05</td>\n",
       "    </tr>\n",
       "    <tr>\n",
       "      <th>4337</th>\n",
       "      <td>18283</td>\n",
       "      <td>2045.53</td>\n",
       "    </tr>\n",
       "    <tr>\n",
       "      <th>4338</th>\n",
       "      <td>18287</td>\n",
       "      <td>1837.28</td>\n",
       "    </tr>\n",
       "  </tbody>\n",
       "</table>\n",
       "<p>4338 rows × 2 columns</p>\n",
       "</div>"
      ],
      "text/plain": [
       "     Customer ID  Monetary\n",
       "1          12346  77183.60\n",
       "2          12347   4310.00\n",
       "3          12348   1797.24\n",
       "4          12349   1757.55\n",
       "5          12350    334.40\n",
       "...          ...       ...\n",
       "4334       18280    180.60\n",
       "4335       18281     80.82\n",
       "4336       18282    178.05\n",
       "4337       18283   2045.53\n",
       "4338       18287   1837.28\n",
       "\n",
       "[4338 rows x 2 columns]"
      ]
     },
     "execution_count": 67,
     "metadata": {},
     "output_type": "execute_result"
    }
   ],
   "source": [
    "# Calculate the money spent by the customer over the period selected\n",
    "# In this case over 1 year (13 months in reality)\n",
    "df[\"total_sale\"] = df.UnitPrice * df.Quantity\n",
    "df_monetary = df.groupby(\"CustomerID\", as_index=False)[\"total_sale\"].sum()\n",
    "df_monetary.index = df_monetary.index + 1\n",
    "df_monetary.rename(columns={\"CustomerID\":\"Customer ID\", \"total_sale\":\"Monetary\"}, inplace=True)\n",
    "df_monetary"
   ]
  },
  {
   "cell_type": "code",
   "execution_count": 68,
   "metadata": {},
   "outputs": [
    {
     "data": {
      "text/html": [
       "<div>\n",
       "<style scoped>\n",
       "    .dataframe tbody tr th:only-of-type {\n",
       "        vertical-align: middle;\n",
       "    }\n",
       "\n",
       "    .dataframe tbody tr th {\n",
       "        vertical-align: top;\n",
       "    }\n",
       "\n",
       "    .dataframe thead th {\n",
       "        text-align: right;\n",
       "    }\n",
       "</style>\n",
       "<table border=\"1\" class=\"dataframe\">\n",
       "  <thead>\n",
       "    <tr style=\"text-align: right;\">\n",
       "      <th></th>\n",
       "      <th>Customer ID</th>\n",
       "      <th>Recency</th>\n",
       "      <th>Frequency</th>\n",
       "      <th>Monetary</th>\n",
       "    </tr>\n",
       "  </thead>\n",
       "  <tbody>\n",
       "    <tr>\n",
       "      <th>1</th>\n",
       "      <td>12346</td>\n",
       "      <td>326</td>\n",
       "      <td>1</td>\n",
       "      <td>77183.60</td>\n",
       "    </tr>\n",
       "    <tr>\n",
       "      <th>2</th>\n",
       "      <td>12347</td>\n",
       "      <td>3</td>\n",
       "      <td>182</td>\n",
       "      <td>4310.00</td>\n",
       "    </tr>\n",
       "    <tr>\n",
       "      <th>3</th>\n",
       "      <td>12348</td>\n",
       "      <td>76</td>\n",
       "      <td>31</td>\n",
       "      <td>1797.24</td>\n",
       "    </tr>\n",
       "    <tr>\n",
       "      <th>4</th>\n",
       "      <td>12349</td>\n",
       "      <td>19</td>\n",
       "      <td>73</td>\n",
       "      <td>1757.55</td>\n",
       "    </tr>\n",
       "    <tr>\n",
       "      <th>5</th>\n",
       "      <td>12350</td>\n",
       "      <td>311</td>\n",
       "      <td>17</td>\n",
       "      <td>334.40</td>\n",
       "    </tr>\n",
       "    <tr>\n",
       "      <th>...</th>\n",
       "      <td>...</td>\n",
       "      <td>...</td>\n",
       "      <td>...</td>\n",
       "      <td>...</td>\n",
       "    </tr>\n",
       "    <tr>\n",
       "      <th>4334</th>\n",
       "      <td>18280</td>\n",
       "      <td>278</td>\n",
       "      <td>10</td>\n",
       "      <td>180.60</td>\n",
       "    </tr>\n",
       "    <tr>\n",
       "      <th>4335</th>\n",
       "      <td>18281</td>\n",
       "      <td>181</td>\n",
       "      <td>7</td>\n",
       "      <td>80.82</td>\n",
       "    </tr>\n",
       "    <tr>\n",
       "      <th>4336</th>\n",
       "      <td>18282</td>\n",
       "      <td>8</td>\n",
       "      <td>12</td>\n",
       "      <td>178.05</td>\n",
       "    </tr>\n",
       "    <tr>\n",
       "      <th>4337</th>\n",
       "      <td>18283</td>\n",
       "      <td>4</td>\n",
       "      <td>721</td>\n",
       "      <td>2045.53</td>\n",
       "    </tr>\n",
       "    <tr>\n",
       "      <th>4338</th>\n",
       "      <td>18287</td>\n",
       "      <td>43</td>\n",
       "      <td>70</td>\n",
       "      <td>1837.28</td>\n",
       "    </tr>\n",
       "  </tbody>\n",
       "</table>\n",
       "<p>4338 rows × 4 columns</p>\n",
       "</div>"
      ],
      "text/plain": [
       "     Customer ID  Recency  Frequency  Monetary\n",
       "1          12346      326          1  77183.60\n",
       "2          12347        3        182   4310.00\n",
       "3          12348       76         31   1797.24\n",
       "4          12349       19         73   1757.55\n",
       "5          12350      311         17    334.40\n",
       "...          ...      ...        ...       ...\n",
       "4334       18280      278         10    180.60\n",
       "4335       18281      181          7     80.82\n",
       "4336       18282        8         12    178.05\n",
       "4337       18283        4        721   2045.53\n",
       "4338       18287       43         70   1837.28\n",
       "\n",
       "[4338 rows x 4 columns]"
      ]
     },
     "execution_count": 68,
     "metadata": {},
     "output_type": "execute_result"
    }
   ],
   "source": [
    "# Final RFM Table\n",
    "rfm_df = df_recency.merge(df_frequency, on='Customer ID')\n",
    "rfm_df = rfm_df.merge(df_monetary, on=\"Customer ID\")\n",
    "rfm_df.index = rfm_df.index + 1\n",
    "rfm_df"
   ]
  },
  {
   "cell_type": "markdown",
   "metadata": {},
   "source": [
    "### Calculating the RFM score"
   ]
  },
  {
   "cell_type": "code",
   "execution_count": 69,
   "metadata": {},
   "outputs": [
    {
     "data": {
      "text/html": [
       "<div>\n",
       "<style scoped>\n",
       "    .dataframe tbody tr th:only-of-type {\n",
       "        vertical-align: middle;\n",
       "    }\n",
       "\n",
       "    .dataframe tbody tr th {\n",
       "        vertical-align: top;\n",
       "    }\n",
       "\n",
       "    .dataframe thead th {\n",
       "        text-align: right;\n",
       "    }\n",
       "</style>\n",
       "<table border=\"1\" class=\"dataframe\">\n",
       "  <thead>\n",
       "    <tr style=\"text-align: right;\">\n",
       "      <th></th>\n",
       "      <th>Customer ID</th>\n",
       "      <th>Recency</th>\n",
       "      <th>Frequency</th>\n",
       "      <th>Monetary</th>\n",
       "      <th>R_rank_norm</th>\n",
       "      <th>F_rank_norm</th>\n",
       "      <th>M_rank_norm</th>\n",
       "    </tr>\n",
       "  </thead>\n",
       "  <tbody>\n",
       "    <tr>\n",
       "      <th>1</th>\n",
       "      <td>12346</td>\n",
       "      <td>326</td>\n",
       "      <td>1</td>\n",
       "      <td>77183.60</td>\n",
       "      <td>3.760704</td>\n",
       "      <td>0.829876</td>\n",
       "      <td>99.792531</td>\n",
       "    </tr>\n",
       "    <tr>\n",
       "      <th>2</th>\n",
       "      <td>12347</td>\n",
       "      <td>3</td>\n",
       "      <td>182</td>\n",
       "      <td>4310.00</td>\n",
       "      <td>96.169868</td>\n",
       "      <td>88.231904</td>\n",
       "      <td>92.300599</td>\n",
       "    </tr>\n",
       "    <tr>\n",
       "      <th>3</th>\n",
       "      <td>12348</td>\n",
       "      <td>76</td>\n",
       "      <td>31</td>\n",
       "      <td>1797.24</td>\n",
       "      <td>38.093034</td>\n",
       "      <td>42.346704</td>\n",
       "      <td>76.878746</td>\n",
       "    </tr>\n",
       "    <tr>\n",
       "      <th>4</th>\n",
       "      <td>12349</td>\n",
       "      <td>19</td>\n",
       "      <td>73</td>\n",
       "      <td>1757.55</td>\n",
       "      <td>74.276788</td>\n",
       "      <td>67.093130</td>\n",
       "      <td>76.348548</td>\n",
       "    </tr>\n",
       "    <tr>\n",
       "      <th>5</th>\n",
       "      <td>12350</td>\n",
       "      <td>311</td>\n",
       "      <td>17</td>\n",
       "      <td>334.40</td>\n",
       "      <td>5.264985</td>\n",
       "      <td>24.953896</td>\n",
       "      <td>28.630705</td>\n",
       "    </tr>\n",
       "  </tbody>\n",
       "</table>\n",
       "</div>"
      ],
      "text/plain": [
       "  Customer ID  Recency  Frequency  Monetary  R_rank_norm  F_rank_norm  \\\n",
       "1       12346      326          1  77183.60     3.760704     0.829876   \n",
       "2       12347        3        182   4310.00    96.169868    88.231904   \n",
       "3       12348       76         31   1797.24    38.093034    42.346704   \n",
       "4       12349       19         73   1757.55    74.276788    67.093130   \n",
       "5       12350      311         17    334.40     5.264985    24.953896   \n",
       "\n",
       "   M_rank_norm  \n",
       "1    99.792531  \n",
       "2    92.300599  \n",
       "3    76.878746  \n",
       "4    76.348548  \n",
       "5    28.630705  "
      ]
     },
     "execution_count": 69,
     "metadata": {},
     "output_type": "execute_result"
    }
   ],
   "source": [
    "\n",
    "# The results must now be normalized in order to rank the customer\n",
    "# Recency is better when lower, hence the lower the score the higher the rank\n",
    "rfm_df['R_rank'] = rfm_df['Recency'].rank(ascending=False)\n",
    "rfm_df['F_rank'] = rfm_df['Frequency'].rank(ascending=True)\n",
    "rfm_df['M_rank'] = rfm_df['Monetary'].rank(ascending=True)\n",
    " \n",
    "# normalizing the rank of the customers\n",
    "rfm_df['R_rank_norm'] = (rfm_df['R_rank']/rfm_df['R_rank'].max())*100\n",
    "rfm_df['F_rank_norm'] = (rfm_df['F_rank']/rfm_df['F_rank'].max())*100\n",
    "rfm_df['M_rank_norm'] = (rfm_df['M_rank']/rfm_df['M_rank'].max())*100\n",
    " \n",
    "rfm_df.drop(columns=['R_rank', 'F_rank', 'M_rank'], inplace=True)\n",
    " \n",
    "rfm_df.head()"
   ]
  },
  {
   "cell_type": "code",
   "execution_count": 70,
   "metadata": {},
   "outputs": [
    {
     "data": {
      "text/html": [
       "<div>\n",
       "<style scoped>\n",
       "    .dataframe tbody tr th:only-of-type {\n",
       "        vertical-align: middle;\n",
       "    }\n",
       "\n",
       "    .dataframe tbody tr th {\n",
       "        vertical-align: top;\n",
       "    }\n",
       "\n",
       "    .dataframe thead th {\n",
       "        text-align: right;\n",
       "    }\n",
       "</style>\n",
       "<table border=\"1\" class=\"dataframe\">\n",
       "  <thead>\n",
       "    <tr style=\"text-align: right;\">\n",
       "      <th></th>\n",
       "      <th>Customer ID</th>\n",
       "      <th>RFM_Score</th>\n",
       "    </tr>\n",
       "  </thead>\n",
       "  <tbody>\n",
       "    <tr>\n",
       "      <th>1880</th>\n",
       "      <td>14911</td>\n",
       "      <td>4.99</td>\n",
       "    </tr>\n",
       "    <tr>\n",
       "      <th>2177</th>\n",
       "      <td>15311</td>\n",
       "      <td>4.99</td>\n",
       "    </tr>\n",
       "    <tr>\n",
       "      <th>1690</th>\n",
       "      <td>14646</td>\n",
       "      <td>4.99</td>\n",
       "    </tr>\n",
       "    <tr>\n",
       "      <th>327</th>\n",
       "      <td>12748</td>\n",
       "      <td>4.98</td>\n",
       "    </tr>\n",
       "    <tr>\n",
       "      <th>4011</th>\n",
       "      <td>17841</td>\n",
       "      <td>4.97</td>\n",
       "    </tr>\n",
       "    <tr>\n",
       "      <th>...</th>\n",
       "      <td>...</td>\n",
       "      <td>...</td>\n",
       "    </tr>\n",
       "    <tr>\n",
       "      <th>3241</th>\n",
       "      <td>16765</td>\n",
       "      <td>0.07</td>\n",
       "    </tr>\n",
       "    <tr>\n",
       "      <th>3218</th>\n",
       "      <td>16738</td>\n",
       "      <td>0.06</td>\n",
       "    </tr>\n",
       "    <tr>\n",
       "      <th>2639</th>\n",
       "      <td>15940</td>\n",
       "      <td>0.06</td>\n",
       "    </tr>\n",
       "    <tr>\n",
       "      <th>1641</th>\n",
       "      <td>14576</td>\n",
       "      <td>0.03</td>\n",
       "    </tr>\n",
       "    <tr>\n",
       "      <th>2559</th>\n",
       "      <td>15823</td>\n",
       "      <td>0.02</td>\n",
       "    </tr>\n",
       "  </tbody>\n",
       "</table>\n",
       "<p>4338 rows × 2 columns</p>\n",
       "</div>"
      ],
      "text/plain": [
       "     Customer ID  RFM_Score\n",
       "1880       14911       4.99\n",
       "2177       15311       4.99\n",
       "1690       14646       4.99\n",
       "327        12748       4.98\n",
       "4011       17841       4.97\n",
       "...          ...        ...\n",
       "3241       16765       0.07\n",
       "3218       16738       0.06\n",
       "2639       15940       0.06\n",
       "1641       14576       0.03\n",
       "2559       15823       0.02\n",
       "\n",
       "[4338 rows x 2 columns]"
      ]
     },
     "execution_count": 70,
     "metadata": {},
     "output_type": "execute_result"
    }
   ],
   "source": [
    "\n",
    "# Different weights will be given for each rank\n",
    "# Recency receives least, while monetary receives the most\n",
    "rfm_df['RFM_Score'] = 0.15*rfm_df['R_rank_norm'] + 0.28* \\\n",
    "    rfm_df['F_rank_norm'] + 0.57*rfm_df['M_rank_norm']\n",
    "\n",
    "# The RFM score will be out of 10 and consist of 2 decimal places\n",
    "rfm_df['RFM_Score'] *= 0.05\n",
    "rfm_df = rfm_df.round(2)\n",
    "rfm_df[['Customer ID', 'RFM_Score']].sort_values(by=[\"RFM_Score\"], ascending=False)"
   ]
  },
  {
   "cell_type": "markdown",
   "metadata": {},
   "source": [
    "### RFM Segmentation"
   ]
  },
  {
   "cell_type": "code",
   "execution_count": 71,
   "metadata": {},
   "outputs": [
    {
     "data": {
      "text/plain": [
       "Newest        2681\n",
       "Recent         616\n",
       "Occasional     415\n",
       "Seasonal       356\n",
       "Lost           270\n",
       "Name: recency_labels, dtype: int64"
      ]
     },
     "execution_count": 71,
     "metadata": {},
     "output_type": "execute_result"
    },
    {
     "data": {
      "image/png": "[encoded data removed]",
      "text/plain": [
       "<Figure size 432x288 with 1 Axes>"
      ]
     },
     "metadata": {
      "needs_background": "light"
     },
     "output_type": "display_data"
    }
   ],
   "source": [
    "rfm_segs = pd.DataFrame()\n",
    "rfm_segs[\"recency_labels\"] = pd.cut(rfm_df[\"Recency\"], bins=5, \n",
    "    labels=[\"Newest\", \"Recent\", \"Occasional\", \"Seasonal\", \"Lost\"])\n",
    "rfm_segs[\"recency_labels\"].value_counts().plot(kind=\"barh\");\n",
    "rfm_segs[\"recency_labels\"].value_counts()"
   ]
  },
  {
   "cell_type": "code",
   "execution_count": 72,
   "metadata": {},
   "outputs": [
    {
     "data": {
      "text/plain": [
       "Least frequent    4328\n",
       "Less frequent        6\n",
       "More frequent        2\n",
       "Frequent             1\n",
       "Most frequent        1\n",
       "Name: frequency_labels, dtype: int64"
      ]
     },
     "execution_count": 72,
     "metadata": {},
     "output_type": "execute_result"
    },
    {
     "data": {
      "image/png": "[encoded data removed]",
      "text/plain": [
       "<Figure size 432x288 with 1 Axes>"
      ]
     },
     "metadata": {
      "needs_background": "light"
     },
     "output_type": "display_data"
    }
   ],
   "source": [
    "rfm_segs[\"frequency_labels\"] = pd.cut(rfm_df[\"Frequency\"], bins=5, \n",
    "    labels=[\"Least frequent\", \"Less frequent\", \"Frequent\", \"More frequent\", \"Most frequent\"])\n",
    "rfm_segs[\"frequency_labels\"].value_counts().plot(kind=\"barh\");\n",
    "rfm_segs[\"frequency_labels\"].value_counts()"
   ]
  },
  {
   "cell_type": "code",
   "execution_count": 73,
   "metadata": {},
   "outputs": [
    {
     "data": {
      "text/plain": [
       "Least spender      4321\n",
       "Low spender          10\n",
       "Average spender       3\n",
       "High spender          2\n",
       "Top spender           2\n",
       "Name: monetary_labels, dtype: int64"
      ]
     },
     "execution_count": 73,
     "metadata": {},
     "output_type": "execute_result"
    },
    {
     "data": {
      "image/png": "[encoded data removed]",
      "text/plain": [
       "<Figure size 432x288 with 1 Axes>"
      ]
     },
     "metadata": {
      "needs_background": "light"
     },
     "output_type": "display_data"
    }
   ],
   "source": [
    "rfm_segs[\"monetary_labels\"] = pd.cut(rfm_df[\"Monetary\"], bins=5, \n",
    "    labels=[\"Least spender\", \"Low spender\", \"Average spender\", \"High spender\", \"Top spender\"])\n",
    "rfm_segs[\"monetary_labels\"].value_counts().plot(kind=\"barh\");\n",
    "rfm_segs[\"monetary_labels\"].value_counts()"
   ]
  },
  {
   "cell_type": "code",
   "execution_count": 74,
   "metadata": {},
   "outputs": [
    {
     "data": {
      "text/html": [
       "<div>\n",
       "<style scoped>\n",
       "    .dataframe tbody tr th:only-of-type {\n",
       "        vertical-align: middle;\n",
       "    }\n",
       "\n",
       "    .dataframe tbody tr th {\n",
       "        vertical-align: top;\n",
       "    }\n",
       "\n",
       "    .dataframe thead th {\n",
       "        text-align: right;\n",
       "    }\n",
       "</style>\n",
       "<table border=\"1\" class=\"dataframe\">\n",
       "  <thead>\n",
       "    <tr style=\"text-align: right;\">\n",
       "      <th></th>\n",
       "      <th>Customer ID</th>\n",
       "      <th>Recency</th>\n",
       "      <th>Frequency</th>\n",
       "      <th>Monetary</th>\n",
       "      <th>R_rank_norm</th>\n",
       "      <th>F_rank_norm</th>\n",
       "      <th>M_rank_norm</th>\n",
       "      <th>RFM_Score</th>\n",
       "      <th>Segmentation</th>\n",
       "    </tr>\n",
       "  </thead>\n",
       "  <tbody>\n",
       "    <tr>\n",
       "      <th>1</th>\n",
       "      <td>12346</td>\n",
       "      <td>326</td>\n",
       "      <td>1</td>\n",
       "      <td>77183.60</td>\n",
       "      <td>3.76</td>\n",
       "      <td>0.83</td>\n",
       "      <td>99.79</td>\n",
       "      <td>2.88</td>\n",
       "      <td>Lost-Least frequent-Low spender</td>\n",
       "    </tr>\n",
       "    <tr>\n",
       "      <th>2</th>\n",
       "      <td>12347</td>\n",
       "      <td>3</td>\n",
       "      <td>182</td>\n",
       "      <td>4310.00</td>\n",
       "      <td>96.17</td>\n",
       "      <td>88.23</td>\n",
       "      <td>92.30</td>\n",
       "      <td>4.59</td>\n",
       "      <td>Newest-Least frequent-Least spender</td>\n",
       "    </tr>\n",
       "    <tr>\n",
       "      <th>3</th>\n",
       "      <td>12348</td>\n",
       "      <td>76</td>\n",
       "      <td>31</td>\n",
       "      <td>1797.24</td>\n",
       "      <td>38.09</td>\n",
       "      <td>42.35</td>\n",
       "      <td>76.88</td>\n",
       "      <td>3.07</td>\n",
       "      <td>Recent-Least frequent-Least spender</td>\n",
       "    </tr>\n",
       "    <tr>\n",
       "      <th>4</th>\n",
       "      <td>12349</td>\n",
       "      <td>19</td>\n",
       "      <td>73</td>\n",
       "      <td>1757.55</td>\n",
       "      <td>74.28</td>\n",
       "      <td>67.09</td>\n",
       "      <td>76.35</td>\n",
       "      <td>3.67</td>\n",
       "      <td>Newest-Least frequent-Least spender</td>\n",
       "    </tr>\n",
       "    <tr>\n",
       "      <th>5</th>\n",
       "      <td>12350</td>\n",
       "      <td>311</td>\n",
       "      <td>17</td>\n",
       "      <td>334.40</td>\n",
       "      <td>5.26</td>\n",
       "      <td>24.95</td>\n",
       "      <td>28.63</td>\n",
       "      <td>1.20</td>\n",
       "      <td>Lost-Least frequent-Least spender</td>\n",
       "    </tr>\n",
       "    <tr>\n",
       "      <th>...</th>\n",
       "      <td>...</td>\n",
       "      <td>...</td>\n",
       "      <td>...</td>\n",
       "      <td>...</td>\n",
       "      <td>...</td>\n",
       "      <td>...</td>\n",
       "      <td>...</td>\n",
       "      <td>...</td>\n",
       "      <td>...</td>\n",
       "    </tr>\n",
       "    <tr>\n",
       "      <th>4334</th>\n",
       "      <td>18280</td>\n",
       "      <td>278</td>\n",
       "      <td>10</td>\n",
       "      <td>180.60</td>\n",
       "      <td>8.22</td>\n",
       "      <td>14.33</td>\n",
       "      <td>13.16</td>\n",
       "      <td>0.64</td>\n",
       "      <td>Seasonal-Least frequent-Least spender</td>\n",
       "    </tr>\n",
       "    <tr>\n",
       "      <th>4335</th>\n",
       "      <td>18281</td>\n",
       "      <td>181</td>\n",
       "      <td>7</td>\n",
       "      <td>80.82</td>\n",
       "      <td>19.90</td>\n",
       "      <td>9.36</td>\n",
       "      <td>2.40</td>\n",
       "      <td>0.35</td>\n",
       "      <td>Occasional-Least frequent-Least spender</td>\n",
       "    </tr>\n",
       "    <tr>\n",
       "      <th>4336</th>\n",
       "      <td>18282</td>\n",
       "      <td>8</td>\n",
       "      <td>12</td>\n",
       "      <td>178.05</td>\n",
       "      <td>88.83</td>\n",
       "      <td>17.70</td>\n",
       "      <td>12.70</td>\n",
       "      <td>1.28</td>\n",
       "      <td>Newest-Least frequent-Least spender</td>\n",
       "    </tr>\n",
       "    <tr>\n",
       "      <th>4337</th>\n",
       "      <td>18283</td>\n",
       "      <td>4</td>\n",
       "      <td>721</td>\n",
       "      <td>2045.53</td>\n",
       "      <td>94.04</td>\n",
       "      <td>99.30</td>\n",
       "      <td>79.88</td>\n",
       "      <td>4.37</td>\n",
       "      <td>Newest-Least frequent-Least spender</td>\n",
       "    </tr>\n",
       "    <tr>\n",
       "      <th>4338</th>\n",
       "      <td>18287</td>\n",
       "      <td>43</td>\n",
       "      <td>70</td>\n",
       "      <td>1837.28</td>\n",
       "      <td>54.55</td>\n",
       "      <td>65.87</td>\n",
       "      <td>77.43</td>\n",
       "      <td>3.54</td>\n",
       "      <td>Newest-Least frequent-Least spender</td>\n",
       "    </tr>\n",
       "  </tbody>\n",
       "</table>\n",
       "<p>4338 rows × 9 columns</p>\n",
       "</div>"
      ],
      "text/plain": [
       "     Customer ID  Recency  Frequency  Monetary  R_rank_norm  F_rank_norm  \\\n",
       "1          12346      326          1  77183.60         3.76         0.83   \n",
       "2          12347        3        182   4310.00        96.17        88.23   \n",
       "3          12348       76         31   1797.24        38.09        42.35   \n",
       "4          12349       19         73   1757.55        74.28        67.09   \n",
       "5          12350      311         17    334.40         5.26        24.95   \n",
       "...          ...      ...        ...       ...          ...          ...   \n",
       "4334       18280      278         10    180.60         8.22        14.33   \n",
       "4335       18281      181          7     80.82        19.90         9.36   \n",
       "4336       18282        8         12    178.05        88.83        17.70   \n",
       "4337       18283        4        721   2045.53        94.04        99.30   \n",
       "4338       18287       43         70   1837.28        54.55        65.87   \n",
       "\n",
       "      M_rank_norm  RFM_Score                             Segmentation  \n",
       "1           99.79       2.88          Lost-Least frequent-Low spender  \n",
       "2           92.30       4.59      Newest-Least frequent-Least spender  \n",
       "3           76.88       3.07      Recent-Least frequent-Least spender  \n",
       "4           76.35       3.67      Newest-Least frequent-Least spender  \n",
       "5           28.63       1.20        Lost-Least frequent-Least spender  \n",
       "...           ...        ...                                      ...  \n",
       "4334        13.16       0.64    Seasonal-Least frequent-Least spender  \n",
       "4335         2.40       0.35  Occasional-Least frequent-Least spender  \n",
       "4336        12.70       1.28      Newest-Least frequent-Least spender  \n",
       "4337        79.88       4.37      Newest-Least frequent-Least spender  \n",
       "4338        77.43       3.54      Newest-Least frequent-Least spender  \n",
       "\n",
       "[4338 rows x 9 columns]"
      ]
     },
     "execution_count": 74,
     "metadata": {},
     "output_type": "execute_result"
    }
   ],
   "source": [
    "rfm_df[\"Segmentation\"] = rfm_segs[\"recency_labels\"].astype(str) + \"-\" + rfm_segs[\"frequency_labels\"].astype(str) \\\n",
    "    + \"-\" + rfm_segs[\"monetary_labels\"].astype(str)\n",
    "rfm_df"
   ]
  },
  {
   "cell_type": "code",
   "execution_count": 75,
   "metadata": {},
   "outputs": [
    {
     "data": {
      "text/plain": [
       "Newest-Least frequent-Least spender        2660\n",
       "Recent-Least frequent-Least spender         616\n",
       "Occasional-Least frequent-Least spender     415\n",
       "Seasonal-Least frequent-Least spender       356\n",
       "Lost-Least frequent-Least spender           269\n",
       "Newest-Least frequent-Low spender             6\n",
       "Newest-Less frequent-Least spender            3\n",
       "Newest-Less frequent-Low spender              2\n",
       "Newest-Least frequent-Average spender         2\n",
       "Newest-Least frequent-High spender            2\n",
       "Newest-More frequent-Average spender          1\n",
       "Newest-Most frequent-Least spender            1\n",
       "Lost-Least frequent-Low spender               1\n",
       "Newest-Less frequent-Top spender              1\n",
       "Newest-More frequent-Low spender              1\n",
       "Newest-Frequent-Least spender                 1\n",
       "Newest-Least frequent-Top spender             1\n",
       "Name: Segmentation, dtype: int64"
      ]
     },
     "execution_count": 75,
     "metadata": {},
     "output_type": "execute_result"
    },
    {
     "data": {
      "image/png": "[encoded data removed]",
      "text/plain": [
       "<Figure size 720x360 with 1 Axes>"
      ]
     },
     "metadata": {
      "needs_background": "light"
     },
     "output_type": "display_data"
    }
   ],
   "source": [
    "plt.figure(figsize=(10, 5))\n",
    "rfm_df[\"Segmentation\"].value_counts().plot(kind=\"barh\");\n",
    "rfm_df[\"Segmentation\"].value_counts()"
   ]
  },
  {
   "cell_type": "markdown",
   "metadata": {},
   "source": [
    "## Data Modeling\n",
    "- Check the distribution of data \n",
    "- Prepare the data (remove outliers if necessary and standardize)\n",
    "- Use k-means clustering "
   ]
  },
  {
   "cell_type": "code",
   "execution_count": 76,
   "metadata": {},
   "outputs": [
    {
     "data": {
      "image/png": "[encoded data removed]",
      "text/plain": [
       "<Figure size 1152x576 with 6 Axes>"
      ]
     },
     "metadata": {
      "needs_background": "light"
     },
     "output_type": "display_data"
    }
   ],
   "source": [
    "# Plot each of the RFM metrics to gain insight\n",
    "plt.subplots(2, 3, figsize=(16,8))\n",
    "for i, metric in enumerate([\"Recency\", \"Frequency\", \"Monetary\"]):\n",
    "    plt.subplot(2, 3, i+1)\n",
    "    rfm_df[metric].plot(kind=\"box\")\n",
    "    plt.subplot(2, 3, i+4)\n",
    "    rfm_df[metric].plot(kind=\"hist\")"
   ]
  },
  {
   "cell_type": "markdown",
   "metadata": {},
   "source": [
    "It can be seen that recency has a lot of outliers. I constrast, frequency has the least, while maintaining varying degrees of outliers. Finally, monetary illustrates both the highest and most extreme outliers.\n",
    "\n",
    "As for the frequencies, all 3 features appear to be right-skewed."
   ]
  },
  {
   "cell_type": "code",
   "execution_count": 77,
   "metadata": {},
   "outputs": [
    {
     "data": {
      "text/html": [
       "<div>\n",
       "<style scoped>\n",
       "    .dataframe tbody tr th:only-of-type {\n",
       "        vertical-align: middle;\n",
       "    }\n",
       "\n",
       "    .dataframe tbody tr th {\n",
       "        vertical-align: top;\n",
       "    }\n",
       "\n",
       "    .dataframe thead th {\n",
       "        text-align: right;\n",
       "    }\n",
       "</style>\n",
       "<table border=\"1\" class=\"dataframe\">\n",
       "  <thead>\n",
       "    <tr style=\"text-align: right;\">\n",
       "      <th></th>\n",
       "      <th>Recency</th>\n",
       "      <th>Frequency</th>\n",
       "      <th>Monetary</th>\n",
       "    </tr>\n",
       "  </thead>\n",
       "  <tbody>\n",
       "    <tr>\n",
       "      <th>0</th>\n",
       "      <td>1.614069</td>\n",
       "      <td>-2.427939</td>\n",
       "      <td>3.124061</td>\n",
       "    </tr>\n",
       "    <tr>\n",
       "      <th>1</th>\n",
       "      <td>-1.729209</td>\n",
       "      <td>1.189871</td>\n",
       "      <td>1.378940</td>\n",
       "    </tr>\n",
       "    <tr>\n",
       "      <th>2</th>\n",
       "      <td>0.306988</td>\n",
       "      <td>-0.213464</td>\n",
       "      <td>0.755356</td>\n",
       "    </tr>\n",
       "    <tr>\n",
       "      <th>3</th>\n",
       "      <td>-0.715181</td>\n",
       "      <td>0.460181</td>\n",
       "      <td>0.738795</td>\n",
       "    </tr>\n",
       "    <tr>\n",
       "      <th>4</th>\n",
       "      <td>1.567794</td>\n",
       "      <td>-0.674706</td>\n",
       "      <td>-0.587198</td>\n",
       "    </tr>\n",
       "    <tr>\n",
       "      <th>5</th>\n",
       "      <td>-0.250039</td>\n",
       "      <td>0.581141</td>\n",
       "      <td>0.998074</td>\n",
       "    </tr>\n",
       "    <tr>\n",
       "      <th>6</th>\n",
       "      <td>1.170349</td>\n",
       "      <td>-1.698374</td>\n",
       "      <td>-1.788356</td>\n",
       "    </tr>\n",
       "  </tbody>\n",
       "</table>\n",
       "</div>"
      ],
      "text/plain": [
       "    Recency  Frequency  Monetary\n",
       "0  1.614069  -2.427939  3.124061\n",
       "1 -1.729209   1.189871  1.378940\n",
       "2  0.306988  -0.213464  0.755356\n",
       "3 -0.715181   0.460181  0.738795\n",
       "4  1.567794  -0.674706 -0.587198\n",
       "5 -0.250039   0.581141  0.998074\n",
       "6  1.170349  -1.698374 -1.788356"
      ]
     },
     "execution_count": 77,
     "metadata": {},
     "output_type": "execute_result"
    }
   ],
   "source": [
    "# Create a log transformed dataframe in order to get\n",
    "# more normally distributed data\n",
    "from sklearn.preprocessing import PowerTransformer\n",
    "\n",
    "pt = PowerTransformer()\n",
    "rfm_log = pd.DataFrame(pt.fit_transform(rfm_df[[\"Recency\", \"Frequency\", \"Monetary\"]]))\n",
    "rfm_log.columns = [\"Recency\", \"Frequency\", \"Monetary\"]\n",
    "rfm_log.head(7)"
   ]
  },
  {
   "cell_type": "code",
   "execution_count": 78,
   "metadata": {},
   "outputs": [
    {
     "data": {
      "image/png": "[encoded data removed]",
      "text/plain": [
       "<Figure size 432x288 with 1 Axes>"
      ]
     },
     "metadata": {
      "needs_background": "light"
     },
     "output_type": "display_data"
    }
   ],
   "source": [
    "# The data is now more normally distributed and is ready to be clustered\n",
    "rfm_log[\"Frequency\"].plot(kind=\"hist\");"
   ]
  },
  {
   "cell_type": "markdown",
   "metadata": {},
   "source": [
    "### Building the K-means Clustering Model"
   ]
  },
  {
   "cell_type": "code",
   "execution_count": 109,
   "metadata": {},
   "outputs": [
    {
     "data": {
      "text/plain": [
       "Text(0, 0.5, 'Loss')"
      ]
     },
     "execution_count": 109,
     "metadata": {},
     "output_type": "execute_result"
    },
    {
     "data": {
      "image/png": "[encoded data removed]",
      "text/plain": [
       "<Figure size 432x288 with 1 Axes>"
      ]
     },
     "metadata": {
      "needs_background": "light"
     },
     "output_type": "display_data"
    }
   ],
   "source": [
    "# First find the Optimal Number of Clusters \n",
    "from sklearn.cluster import KMeans\n",
    "\n",
    "loss = []\n",
    "n_clusters = []\n",
    "for cluster in range(2, 10):\n",
    "    kmeans = KMeans(n_clusters=cluster, max_iter=200)\n",
    "    kmeans.fit(rfm_log)\n",
    "\n",
    "    loss.append(kmeans.inertia_)\n",
    "    n_clusters.append(cluster)\n",
    "\n",
    "# Plot the loss curve\n",
    "plt.plot(n_clusters, loss);\n",
    "plt.xlabel(\"Number of clusters\")\n",
    "plt.ylabel(\"Loss\")"
   ]
  },
  {
   "cell_type": "markdown",
   "metadata": {},
   "source": [
    "The silhouette method shall be utulized, since the elbow is not clear on the graph"
   ]
  },
  {
   "cell_type": "code",
   "execution_count": 110,
   "metadata": {},
   "outputs": [
    {
     "data": {
      "image/png": "[encoded data removed]",
      "text/plain": [
       "<Figure size 432x288 with 1 Axes>"
      ]
     },
     "metadata": {
      "needs_background": "light"
     },
     "output_type": "display_data"
    }
   ],
   "source": [
    "from sklearn.metrics import silhouette_score\n",
    "n_clusters = []\n",
    "silhouette_avg = []\n",
    "for cluster in range(2, 10):\n",
    "    # initialise kmeans\n",
    "    kmeans = KMeans(n_clusters=cluster, max_iter=200)\n",
    "    kmeans.fit(rfm_log)\n",
    "    cluster_labels = kmeans.labels_\n",
    " \n",
    "    # silhouette score\n",
    "    silhouette_avg.append(silhouette_score(rfm_log, cluster_labels))\n",
    "    n_clusters.append(cluster)\n",
    "plt.plot(n_clusters,silhouette_avg,'bx-')\n",
    "plt.xlabel(\"Values of K\") \n",
    "plt.ylabel(\"Silhouette score\") \n",
    "plt.title(\"Silhouette analysis For Optimal k\")\n",
    "plt.show()"
   ]
  },
  {
   "cell_type": "markdown",
   "metadata": {},
   "source": [
    "In the loss curve the elbow of the curve was unclear between 3 and 4 clusters.\n",
    "\n",
    "However, using the silhouette analysis method 4 clusters appear to be the optimal amount of clusters.\n",
    "\n",
    "Notably, the analysis indicates 2 as the optimal classifiction. However, the case would be trivial since as the data showed previously the data is vastly right-skewed."
   ]
  },
  {
   "cell_type": "code",
   "execution_count": 111,
   "metadata": {},
   "outputs": [
    {
     "data": {
      "text/plain": [
       "KMeans(max_iter=200, n_clusters=4)"
      ]
     },
     "execution_count": 111,
     "metadata": {},
     "output_type": "execute_result"
    }
   ],
   "source": [
    "kmeans = KMeans(n_clusters=4, max_iter=200)\n",
    "kmeans.fit(rfm_log)"
   ]
  },
  {
   "cell_type": "code",
   "execution_count": 112,
   "metadata": {},
   "outputs": [
    {
     "data": {
      "text/html": [
       "<div>\n",
       "<style scoped>\n",
       "    .dataframe tbody tr th:only-of-type {\n",
       "        vertical-align: middle;\n",
       "    }\n",
       "\n",
       "    .dataframe tbody tr th {\n",
       "        vertical-align: top;\n",
       "    }\n",
       "\n",
       "    .dataframe thead th {\n",
       "        text-align: right;\n",
       "    }\n",
       "</style>\n",
       "<table border=\"1\" class=\"dataframe\">\n",
       "  <thead>\n",
       "    <tr style=\"text-align: right;\">\n",
       "      <th></th>\n",
       "      <th>Customer ID</th>\n",
       "      <th>Recency</th>\n",
       "      <th>Frequency</th>\n",
       "      <th>Monetary</th>\n",
       "      <th>R_rank_norm</th>\n",
       "      <th>F_rank_norm</th>\n",
       "      <th>M_rank_norm</th>\n",
       "      <th>RFM_Score</th>\n",
       "      <th>Segmentation</th>\n",
       "      <th>Cluster_Id</th>\n",
       "    </tr>\n",
       "  </thead>\n",
       "  <tbody>\n",
       "    <tr>\n",
       "      <th>1</th>\n",
       "      <td>12346</td>\n",
       "      <td>326</td>\n",
       "      <td>1</td>\n",
       "      <td>77183.60</td>\n",
       "      <td>3.76</td>\n",
       "      <td>0.83</td>\n",
       "      <td>99.79</td>\n",
       "      <td>2.88</td>\n",
       "      <td>Lost-Least frequent-Low spender</td>\n",
       "      <td>2</td>\n",
       "    </tr>\n",
       "    <tr>\n",
       "      <th>2</th>\n",
       "      <td>12347</td>\n",
       "      <td>3</td>\n",
       "      <td>182</td>\n",
       "      <td>4310.00</td>\n",
       "      <td>96.17</td>\n",
       "      <td>88.23</td>\n",
       "      <td>92.30</td>\n",
       "      <td>4.59</td>\n",
       "      <td>Newest-Least frequent-Least spender</td>\n",
       "      <td>1</td>\n",
       "    </tr>\n",
       "    <tr>\n",
       "      <th>3</th>\n",
       "      <td>12348</td>\n",
       "      <td>76</td>\n",
       "      <td>31</td>\n",
       "      <td>1797.24</td>\n",
       "      <td>38.09</td>\n",
       "      <td>42.35</td>\n",
       "      <td>76.88</td>\n",
       "      <td>3.07</td>\n",
       "      <td>Recent-Least frequent-Least spender</td>\n",
       "      <td>2</td>\n",
       "    </tr>\n",
       "    <tr>\n",
       "      <th>4</th>\n",
       "      <td>12349</td>\n",
       "      <td>19</td>\n",
       "      <td>73</td>\n",
       "      <td>1757.55</td>\n",
       "      <td>74.28</td>\n",
       "      <td>67.09</td>\n",
       "      <td>76.35</td>\n",
       "      <td>3.67</td>\n",
       "      <td>Newest-Least frequent-Least spender</td>\n",
       "      <td>1</td>\n",
       "    </tr>\n",
       "    <tr>\n",
       "      <th>5</th>\n",
       "      <td>12350</td>\n",
       "      <td>311</td>\n",
       "      <td>17</td>\n",
       "      <td>334.40</td>\n",
       "      <td>5.26</td>\n",
       "      <td>24.95</td>\n",
       "      <td>28.63</td>\n",
       "      <td>1.20</td>\n",
       "      <td>Lost-Least frequent-Least spender</td>\n",
       "      <td>0</td>\n",
       "    </tr>\n",
       "  </tbody>\n",
       "</table>\n",
       "</div>"
      ],
      "text/plain": [
       "  Customer ID  Recency  Frequency  Monetary  R_rank_norm  F_rank_norm  \\\n",
       "1       12346      326          1  77183.60         3.76         0.83   \n",
       "2       12347        3        182   4310.00        96.17        88.23   \n",
       "3       12348       76         31   1797.24        38.09        42.35   \n",
       "4       12349       19         73   1757.55        74.28        67.09   \n",
       "5       12350      311         17    334.40         5.26        24.95   \n",
       "\n",
       "   M_rank_norm  RFM_Score                         Segmentation  Cluster_Id  \n",
       "1        99.79       2.88      Lost-Least frequent-Low spender           2  \n",
       "2        92.30       4.59  Newest-Least frequent-Least spender           1  \n",
       "3        76.88       3.07  Recent-Least frequent-Least spender           2  \n",
       "4        76.35       3.67  Newest-Least frequent-Least spender           1  \n",
       "5        28.63       1.20    Lost-Least frequent-Least spender           0  "
      ]
     },
     "execution_count": 112,
     "metadata": {},
     "output_type": "execute_result"
    }
   ],
   "source": [
    "rfm_df[\"Cluster_Id\"] = kmeans.labels_\n",
    "rfm_df.head()"
   ]
  },
  {
   "cell_type": "markdown",
   "metadata": {},
   "source": [
    "### Visualize the data according to each criteria of RFM"
   ]
  },
  {
   "cell_type": "code",
   "execution_count": 113,
   "metadata": {},
   "outputs": [
    {
     "data": {
      "text/html": [
       "<div>\n",
       "<style scoped>\n",
       "    .dataframe tbody tr th:only-of-type {\n",
       "        vertical-align: middle;\n",
       "    }\n",
       "\n",
       "    .dataframe tbody tr th {\n",
       "        vertical-align: top;\n",
       "    }\n",
       "\n",
       "    .dataframe thead th {\n",
       "        text-align: right;\n",
       "    }\n",
       "</style>\n",
       "<table border=\"1\" class=\"dataframe\">\n",
       "  <thead>\n",
       "    <tr style=\"text-align: right;\">\n",
       "      <th></th>\n",
       "      <th>Cluster_Id</th>\n",
       "      <th>count</th>\n",
       "    </tr>\n",
       "  </thead>\n",
       "  <tbody>\n",
       "    <tr>\n",
       "      <th>0</th>\n",
       "      <td>0</td>\n",
       "      <td>1116</td>\n",
       "    </tr>\n",
       "    <tr>\n",
       "      <th>1</th>\n",
       "      <td>1</td>\n",
       "      <td>1102</td>\n",
       "    </tr>\n",
       "    <tr>\n",
       "      <th>2</th>\n",
       "      <td>2</td>\n",
       "      <td>1156</td>\n",
       "    </tr>\n",
       "    <tr>\n",
       "      <th>3</th>\n",
       "      <td>3</td>\n",
       "      <td>964</td>\n",
       "    </tr>\n",
       "  </tbody>\n",
       "</table>\n",
       "</div>"
      ],
      "text/plain": [
       "   Cluster_Id  count\n",
       "0           0   1116\n",
       "1           1   1102\n",
       "2           2   1156\n",
       "3           3    964"
      ]
     },
     "execution_count": 113,
     "metadata": {},
     "output_type": "execute_result"
    },
    {
     "data": {
      "image/png": "[encoded data removed]",
      "text/plain": [
       "<Figure size 432x288 with 1 Axes>"
      ]
     },
     "metadata": {
      "needs_background": "light"
     },
     "output_type": "display_data"
    }
   ],
   "source": [
    "# Checking the distribution of clusters\n",
    "# The clusters appear to be mostly evenly distributed\n",
    "sns.histplot(rfm_df[\"Cluster_Id\"]);\n",
    "rfm_df.groupby(\"Cluster_Id\", as_index=False)[\"Cluster_Id\"].value_counts()"
   ]
  },
  {
   "cell_type": "code",
   "execution_count": 114,
   "metadata": {},
   "outputs": [
    {
     "data": {
      "image/png": "[encoded data removed]",
      "text/plain": [
       "<Figure size 432x288 with 1 Axes>"
      ]
     },
     "metadata": {
      "needs_background": "light"
     },
     "output_type": "display_data"
    }
   ],
   "source": [
    "# Plotting Recency vs Cluster Id\n",
    "sns.boxplot(x=\"Cluster_Id\", y=\"Recency\", data=rfm_df);"
   ]
  },
  {
   "cell_type": "code",
   "execution_count": 115,
   "metadata": {},
   "outputs": [
    {
     "data": {
      "image/png": "[encoded data removed]",
      "text/plain": [
       "<Figure size 432x288 with 1 Axes>"
      ]
     },
     "metadata": {
      "needs_background": "light"
     },
     "output_type": "display_data"
    }
   ],
   "source": [
    "# Plotting Frequency vs Cluster Id\n",
    "sns.boxplot(x=\"Cluster_Id\", y=\"Frequency\", data=rfm_df);"
   ]
  },
  {
   "cell_type": "code",
   "execution_count": 116,
   "metadata": {},
   "outputs": [
    {
     "data": {
      "image/png": "[encoded data removed]",
      "text/plain": [
       "<Figure size 432x288 with 1 Axes>"
      ]
     },
     "metadata": {
      "needs_background": "light"
     },
     "output_type": "display_data"
    }
   ],
   "source": [
    "# Plotting Monetary vs Cluster Id\n",
    "sns.boxplot(x=\"Cluster_Id\", y=\"Monetary\", data=rfm_df);"
   ]
  },
  {
   "cell_type": "markdown",
   "metadata": {},
   "source": [
    "### Conclusions: \n",
    "- CLuster 0: Consists of low to mid range spending customers, which are mostly occasional buyer that buy less frequently\n",
    "- Cluster 1: Consists of least spenders, which range from ocassional customers to lost customers and shop the least frequent\n",
    "- Cluster 2: Similar to cluster two. However, their purchases are significantly more recent.\n",
    "- Cluster 3: Consists of people who spend average and above. Their frequency ranges mainly from occassional to most frequent and are typically have their next purchase under 100 days.\n",
    "\n",
    "In essence, the company should focus on clusters 1, 2 and 3.\n",
    "- Cluster 1 illustrates top customers who are already hooked to the brand. They must be handled with care and urgency in order to retain them and encourage further bussiness with them.\n",
    "- Cluster 3 highlights people who are loyal to the brand or newly exposed to the brand. In both cases, the chances of retaining them is much more likely than clusters 0 and 1.\n",
    "- "
   ]
  },
  {
   "cell_type": "markdown",
   "metadata": {},
   "source": [
    "## Exporting the excel File for Creating a Tableau Dashboard"
   ]
  },
  {
   "cell_type": "code",
   "execution_count": 118,
   "metadata": {},
   "outputs": [
    {
     "data": {
      "text/html": [
       "<div>\n",
       "<style scoped>\n",
       "    .dataframe tbody tr th:only-of-type {\n",
       "        vertical-align: middle;\n",
       "    }\n",
       "\n",
       "    .dataframe tbody tr th {\n",
       "        vertical-align: top;\n",
       "    }\n",
       "\n",
       "    .dataframe thead th {\n",
       "        text-align: right;\n",
       "    }\n",
       "</style>\n",
       "<table border=\"1\" class=\"dataframe\">\n",
       "  <thead>\n",
       "    <tr style=\"text-align: right;\">\n",
       "      <th></th>\n",
       "      <th>Customer ID</th>\n",
       "      <th>Recency</th>\n",
       "      <th>Frequency</th>\n",
       "      <th>Monetary</th>\n",
       "      <th>R_rank_norm</th>\n",
       "      <th>F_rank_norm</th>\n",
       "      <th>M_rank_norm</th>\n",
       "      <th>RFM_Score</th>\n",
       "      <th>Segmentation</th>\n",
       "      <th>Cluster_Id</th>\n",
       "    </tr>\n",
       "  </thead>\n",
       "  <tbody>\n",
       "    <tr>\n",
       "      <th>1</th>\n",
       "      <td>12346</td>\n",
       "      <td>326</td>\n",
       "      <td>1</td>\n",
       "      <td>77183.60</td>\n",
       "      <td>3.76</td>\n",
       "      <td>0.83</td>\n",
       "      <td>99.79</td>\n",
       "      <td>2.88</td>\n",
       "      <td>Lost-Least frequent-Low spender</td>\n",
       "      <td>2</td>\n",
       "    </tr>\n",
       "    <tr>\n",
       "      <th>2</th>\n",
       "      <td>12347</td>\n",
       "      <td>3</td>\n",
       "      <td>182</td>\n",
       "      <td>4310.00</td>\n",
       "      <td>96.17</td>\n",
       "      <td>88.23</td>\n",
       "      <td>92.30</td>\n",
       "      <td>4.59</td>\n",
       "      <td>Newest-Least frequent-Least spender</td>\n",
       "      <td>1</td>\n",
       "    </tr>\n",
       "    <tr>\n",
       "      <th>3</th>\n",
       "      <td>12348</td>\n",
       "      <td>76</td>\n",
       "      <td>31</td>\n",
       "      <td>1797.24</td>\n",
       "      <td>38.09</td>\n",
       "      <td>42.35</td>\n",
       "      <td>76.88</td>\n",
       "      <td>3.07</td>\n",
       "      <td>Recent-Least frequent-Least spender</td>\n",
       "      <td>2</td>\n",
       "    </tr>\n",
       "    <tr>\n",
       "      <th>4</th>\n",
       "      <td>12349</td>\n",
       "      <td>19</td>\n",
       "      <td>73</td>\n",
       "      <td>1757.55</td>\n",
       "      <td>74.28</td>\n",
       "      <td>67.09</td>\n",
       "      <td>76.35</td>\n",
       "      <td>3.67</td>\n",
       "      <td>Newest-Least frequent-Least spender</td>\n",
       "      <td>1</td>\n",
       "    </tr>\n",
       "    <tr>\n",
       "      <th>5</th>\n",
       "      <td>12350</td>\n",
       "      <td>311</td>\n",
       "      <td>17</td>\n",
       "      <td>334.40</td>\n",
       "      <td>5.26</td>\n",
       "      <td>24.95</td>\n",
       "      <td>28.63</td>\n",
       "      <td>1.20</td>\n",
       "      <td>Lost-Least frequent-Least spender</td>\n",
       "      <td>0</td>\n",
       "    </tr>\n",
       "    <tr>\n",
       "      <th>...</th>\n",
       "      <td>...</td>\n",
       "      <td>...</td>\n",
       "      <td>...</td>\n",
       "      <td>...</td>\n",
       "      <td>...</td>\n",
       "      <td>...</td>\n",
       "      <td>...</td>\n",
       "      <td>...</td>\n",
       "      <td>...</td>\n",
       "      <td>...</td>\n",
       "    </tr>\n",
       "    <tr>\n",
       "      <th>4334</th>\n",
       "      <td>18280</td>\n",
       "      <td>278</td>\n",
       "      <td>10</td>\n",
       "      <td>180.60</td>\n",
       "      <td>8.22</td>\n",
       "      <td>14.33</td>\n",
       "      <td>13.16</td>\n",
       "      <td>0.64</td>\n",
       "      <td>Seasonal-Least frequent-Least spender</td>\n",
       "      <td>0</td>\n",
       "    </tr>\n",
       "    <tr>\n",
       "      <th>4335</th>\n",
       "      <td>18281</td>\n",
       "      <td>181</td>\n",
       "      <td>7</td>\n",
       "      <td>80.82</td>\n",
       "      <td>19.90</td>\n",
       "      <td>9.36</td>\n",
       "      <td>2.40</td>\n",
       "      <td>0.35</td>\n",
       "      <td>Occasional-Least frequent-Least spender</td>\n",
       "      <td>0</td>\n",
       "    </tr>\n",
       "    <tr>\n",
       "      <th>4336</th>\n",
       "      <td>18282</td>\n",
       "      <td>8</td>\n",
       "      <td>12</td>\n",
       "      <td>178.05</td>\n",
       "      <td>88.83</td>\n",
       "      <td>17.70</td>\n",
       "      <td>12.70</td>\n",
       "      <td>1.28</td>\n",
       "      <td>Newest-Least frequent-Least spender</td>\n",
       "      <td>3</td>\n",
       "    </tr>\n",
       "    <tr>\n",
       "      <th>4337</th>\n",
       "      <td>18283</td>\n",
       "      <td>4</td>\n",
       "      <td>721</td>\n",
       "      <td>2045.53</td>\n",
       "      <td>94.04</td>\n",
       "      <td>99.30</td>\n",
       "      <td>79.88</td>\n",
       "      <td>4.37</td>\n",
       "      <td>Newest-Least frequent-Least spender</td>\n",
       "      <td>1</td>\n",
       "    </tr>\n",
       "    <tr>\n",
       "      <th>4338</th>\n",
       "      <td>18287</td>\n",
       "      <td>43</td>\n",
       "      <td>70</td>\n",
       "      <td>1837.28</td>\n",
       "      <td>54.55</td>\n",
       "      <td>65.87</td>\n",
       "      <td>77.43</td>\n",
       "      <td>3.54</td>\n",
       "      <td>Newest-Least frequent-Least spender</td>\n",
       "      <td>2</td>\n",
       "    </tr>\n",
       "  </tbody>\n",
       "</table>\n",
       "<p>4338 rows × 10 columns</p>\n",
       "</div>"
      ],
      "text/plain": [
       "     Customer ID  Recency  Frequency  Monetary  R_rank_norm  F_rank_norm  \\\n",
       "1          12346      326          1  77183.60         3.76         0.83   \n",
       "2          12347        3        182   4310.00        96.17        88.23   \n",
       "3          12348       76         31   1797.24        38.09        42.35   \n",
       "4          12349       19         73   1757.55        74.28        67.09   \n",
       "5          12350      311         17    334.40         5.26        24.95   \n",
       "...          ...      ...        ...       ...          ...          ...   \n",
       "4334       18280      278         10    180.60         8.22        14.33   \n",
       "4335       18281      181          7     80.82        19.90         9.36   \n",
       "4336       18282        8         12    178.05        88.83        17.70   \n",
       "4337       18283        4        721   2045.53        94.04        99.30   \n",
       "4338       18287       43         70   1837.28        54.55        65.87   \n",
       "\n",
       "      M_rank_norm  RFM_Score                             Segmentation  \\\n",
       "1           99.79       2.88          Lost-Least frequent-Low spender   \n",
       "2           92.30       4.59      Newest-Least frequent-Least spender   \n",
       "3           76.88       3.07      Recent-Least frequent-Least spender   \n",
       "4           76.35       3.67      Newest-Least frequent-Least spender   \n",
       "5           28.63       1.20        Lost-Least frequent-Least spender   \n",
       "...           ...        ...                                      ...   \n",
       "4334        13.16       0.64    Seasonal-Least frequent-Least spender   \n",
       "4335         2.40       0.35  Occasional-Least frequent-Least spender   \n",
       "4336        12.70       1.28      Newest-Least frequent-Least spender   \n",
       "4337        79.88       4.37      Newest-Least frequent-Least spender   \n",
       "4338        77.43       3.54      Newest-Least frequent-Least spender   \n",
       "\n",
       "      Cluster_Id  \n",
       "1              2  \n",
       "2              1  \n",
       "3              2  \n",
       "4              1  \n",
       "5              0  \n",
       "...          ...  \n",
       "4334           0  \n",
       "4335           0  \n",
       "4336           3  \n",
       "4337           1  \n",
       "4338           2  \n",
       "\n",
       "[4338 rows x 10 columns]"
      ]
     },
     "execution_count": 118,
     "metadata": {},
     "output_type": "execute_result"
    }
   ],
   "source": [
    "rfm_df"
   ]
  },
  {
   "cell_type": "code",
   "execution_count": 120,
   "metadata": {},
   "outputs": [],
   "source": [
    "# Writing dataframe to excel file for creating visualization in tableau\n",
    "writer = pd.ExcelWriter('./output_data.xlsx', engine='xlsxwriter')\n",
    "\n",
    "df.to_excel(writer, sheet_name='master_data', index=False)\n",
    "rfm_df.to_excel(writer, sheet_name='rfm_data', index=False)\n",
    "writer.save()"
   ]
  },
  {
   "cell_type": "code",
   "execution_count": 121,
   "metadata": {},
   "outputs": [],
   "source": [
    "product_desc = pd.read_excel(\"./datasets/Online Retail.xlsx\")\n",
    "product_desc = product_desc[['StockCode', 'Description']]\n",
    "product_desc = product_desc.drop_duplicates()\n",
    "product_desc.to_csv('product_desc.csv', index=False)"
   ]
  },
  {
   "cell_type": "code",
   "execution_count": null,
   "metadata": {},
   "outputs": [],
   "source": []
  }
 ],
 "metadata": {
  "kernelspec": {
   "display_name": "Python 3.9.12 ('tf')",
   "language": "python",
   "name": "python3"
  },
  "language_info": {
   "codemirror_mode": {
    "name": "ipython",
    "version": 3
   },
   "file_extension": ".py",
   "mimetype": "text/x-python",
   "name": "python",
   "nbconvert_exporter": "python",
   "pygments_lexer": "ipython3",
   "version": "3.9.12"
  },
  "orig_nbformat": 4,
  "vscode": {
   "interpreter": {
    "hash": "2d974c4b7c9167b3c2df7ef2f40c9ab050914ef25a32a81d1263224e0dc77032"
   }
  }
 },
 "nbformat": 4,
 "nbformat_minor": 2
}
